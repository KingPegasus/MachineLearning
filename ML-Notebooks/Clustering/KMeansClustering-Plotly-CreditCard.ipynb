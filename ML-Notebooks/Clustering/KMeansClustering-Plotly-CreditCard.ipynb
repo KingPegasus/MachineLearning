{
 "cells": [
  {
   "cell_type": "markdown",
   "metadata": {},
   "source": [
    "# Clustering"
   ]
  },
  {
   "cell_type": "markdown",
   "metadata": {},
   "source": [
    "In this notebook we will study about **K-Means** algorithm but first we will start with **Loading Data**. Before exploring data, let us have a look at the data dictionary\n",
    "\n",
    "Following is the Data Dictionary for Credit Card dataset :-\n",
    "\n",
    "**CUST_ID** : Identification of Credit Card holder (Categorical) <br/>\n",
    "**BALANCE** : Balance amount left in their account to make purchases <br/>\n",
    "**PURCHASES** : Amount of purchases made from account <br/>\n",
    "**INSTALLMENTS_PURCHASES** : Amount of purchase done in installment <br/>\n",
    "**CASH_ADVANCE** : Cash in advance given by the user <br/>\n",
    "**CREDIT_LIMIT** : Limit of Credit Card for user <br/>\n",
    "**PAYMENTS** : Amount of Payment done by user <br/>\n",
    "**MINIMUM_PAYMENTS** : Minimum amount of payments made by user <br/>\n",
    "**TENURE** : Tenure of credit card service for user"
   ]
  },
  {
   "cell_type": "code",
   "execution_count": 1,
   "metadata": {},
   "outputs": [],
   "source": [
    "# Version Check\n",
    "from platform import python_version\n",
    "python_version()"
   ]
  },
  {
   "cell_type": "markdown",
   "metadata": {},
   "source": [
    "## Loading Data"
   ]
  },
  {
   "cell_type": "code",
   "execution_count": 2,
   "metadata": {},
   "outputs": [],
   "source": [
    "import pandas as pd\n",
    "import numpy as np\n",
    "from sklearn.cluster import KMeans\n",
    "from sklearn import metrics \n",
    "import matplotlib.pyplot as plt\n",
    "import seaborn as sns\n",
    "sns.set() \n",
    "%matplotlib inline "
   ]
  },
  {
   "cell_type": "markdown",
   "metadata": {},
   "source": [
    "**Task 1:** Read CSV file \"credit_card.csv\" from system and It is imporatant to make a copy of data first."
   ]
  },
  {
   "cell_type": "code",
   "execution_count": 3,
   "metadata": {},
   "outputs": [],
   "source": [
    "#write code here\n",
    "data = pd.read_csv(\"datasets/credit_card.csv\")\n",
    "df= data.copy()"
   ]
  },
  {
   "cell_type": "markdown",
   "metadata": {},
   "source": [
    "**Task 2:** Get the shape of data"
   ]
  },
  {
   "cell_type": "code",
   "execution_count": 4,
   "metadata": {},
   "outputs": [
    {
     "data": {
      "text/plain": [
       "(8950, 9)"
      ]
     },
     "execution_count": 4,
     "metadata": {},
     "output_type": "execute_result"
    }
   ],
   "source": [
    "#write code here\n",
    "df.shape"
   ]
  },
  {
   "cell_type": "markdown",
   "metadata": {},
   "source": [
    "**Task 3:** Display first five rows"
   ]
  },
  {
   "cell_type": "code",
   "execution_count": 5,
   "metadata": {},
   "outputs": [
    {
     "data": {
      "text/html": [
       "<div>\n",
       "<style scoped>\n",
       "    .dataframe tbody tr th:only-of-type {\n",
       "        vertical-align: middle;\n",
       "    }\n",
       "\n",
       "    .dataframe tbody tr th {\n",
       "        vertical-align: top;\n",
       "    }\n",
       "\n",
       "    .dataframe thead th {\n",
       "        text-align: right;\n",
       "    }\n",
       "</style>\n",
       "<table border=\"1\" class=\"dataframe\">\n",
       "  <thead>\n",
       "    <tr style=\"text-align: right;\">\n",
       "      <th></th>\n",
       "      <th>CUST_ID</th>\n",
       "      <th>BALANCE</th>\n",
       "      <th>PURCHASES</th>\n",
       "      <th>INSTALLMENTS_PURCHASES</th>\n",
       "      <th>CASH_ADVANCE</th>\n",
       "      <th>CREDIT_LIMIT</th>\n",
       "      <th>PAYMENTS</th>\n",
       "      <th>MINIMUM_PAYMENTS</th>\n",
       "      <th>TENURE</th>\n",
       "    </tr>\n",
       "  </thead>\n",
       "  <tbody>\n",
       "    <tr>\n",
       "      <th>0</th>\n",
       "      <td>C10001</td>\n",
       "      <td>40.900749</td>\n",
       "      <td>95.40</td>\n",
       "      <td>95.4</td>\n",
       "      <td>0.000000</td>\n",
       "      <td>1000.0</td>\n",
       "      <td>201.802084</td>\n",
       "      <td>139.509787</td>\n",
       "      <td>12</td>\n",
       "    </tr>\n",
       "    <tr>\n",
       "      <th>1</th>\n",
       "      <td>C10002</td>\n",
       "      <td>3202.467416</td>\n",
       "      <td>0.00</td>\n",
       "      <td>0.0</td>\n",
       "      <td>6442.945483</td>\n",
       "      <td>7000.0</td>\n",
       "      <td>4103.032597</td>\n",
       "      <td>1072.340217</td>\n",
       "      <td>12</td>\n",
       "    </tr>\n",
       "    <tr>\n",
       "      <th>2</th>\n",
       "      <td>C10003</td>\n",
       "      <td>2495.148862</td>\n",
       "      <td>773.17</td>\n",
       "      <td>0.0</td>\n",
       "      <td>0.000000</td>\n",
       "      <td>7500.0</td>\n",
       "      <td>622.066742</td>\n",
       "      <td>627.284787</td>\n",
       "      <td>12</td>\n",
       "    </tr>\n",
       "    <tr>\n",
       "      <th>3</th>\n",
       "      <td>C10004</td>\n",
       "      <td>1666.670542</td>\n",
       "      <td>1499.00</td>\n",
       "      <td>0.0</td>\n",
       "      <td>205.788017</td>\n",
       "      <td>7500.0</td>\n",
       "      <td>0.000000</td>\n",
       "      <td>312.343947</td>\n",
       "      <td>12</td>\n",
       "    </tr>\n",
       "    <tr>\n",
       "      <th>4</th>\n",
       "      <td>C10005</td>\n",
       "      <td>817.714335</td>\n",
       "      <td>16.00</td>\n",
       "      <td>0.0</td>\n",
       "      <td>0.000000</td>\n",
       "      <td>1200.0</td>\n",
       "      <td>678.334763</td>\n",
       "      <td>244.791237</td>\n",
       "      <td>12</td>\n",
       "    </tr>\n",
       "  </tbody>\n",
       "</table>\n",
       "</div>"
      ],
      "text/plain": [
       "  CUST_ID      BALANCE  PURCHASES  INSTALLMENTS_PURCHASES  CASH_ADVANCE  \\\n",
       "0  C10001    40.900749      95.40                    95.4      0.000000   \n",
       "1  C10002  3202.467416       0.00                     0.0   6442.945483   \n",
       "2  C10003  2495.148862     773.17                     0.0      0.000000   \n",
       "3  C10004  1666.670542    1499.00                     0.0    205.788017   \n",
       "4  C10005   817.714335      16.00                     0.0      0.000000   \n",
       "\n",
       "   CREDIT_LIMIT     PAYMENTS  MINIMUM_PAYMENTS  TENURE  \n",
       "0        1000.0   201.802084        139.509787      12  \n",
       "1        7000.0  4103.032597       1072.340217      12  \n",
       "2        7500.0   622.066742        627.284787      12  \n",
       "3        7500.0     0.000000        312.343947      12  \n",
       "4        1200.0   678.334763        244.791237      12  "
      ]
     },
     "execution_count": 5,
     "metadata": {},
     "output_type": "execute_result"
    }
   ],
   "source": [
    "#write code here\n",
    "df.head()"
   ]
  },
  {
   "cell_type": "markdown",
   "metadata": {},
   "source": [
    "**Task 4:** Display data types of Data"
   ]
  },
  {
   "cell_type": "code",
   "execution_count": 6,
   "metadata": {},
   "outputs": [
    {
     "data": {
      "text/plain": [
       "CUST_ID                    object\n",
       "BALANCE                   float64\n",
       "PURCHASES                 float64\n",
       "INSTALLMENTS_PURCHASES    float64\n",
       "CASH_ADVANCE              float64\n",
       "CREDIT_LIMIT              float64\n",
       "PAYMENTS                  float64\n",
       "MINIMUM_PAYMENTS          float64\n",
       "TENURE                      int64\n",
       "dtype: object"
      ]
     },
     "execution_count": 6,
     "metadata": {},
     "output_type": "execute_result"
    }
   ],
   "source": [
    "#write code here\n",
    "df.dtypes"
   ]
  },
  {
   "cell_type": "markdown",
   "metadata": {},
   "source": [
    "**Task 5:** Check missing values"
   ]
  },
  {
   "cell_type": "code",
   "execution_count": 7,
   "metadata": {},
   "outputs": [
    {
     "data": {
      "text/plain": [
       "CUST_ID                   0\n",
       "BALANCE                   0\n",
       "PURCHASES                 0\n",
       "INSTALLMENTS_PURCHASES    0\n",
       "CASH_ADVANCE              0\n",
       "CREDIT_LIMIT              0\n",
       "PAYMENTS                  0\n",
       "MINIMUM_PAYMENTS          0\n",
       "TENURE                    0\n",
       "dtype: int64"
      ]
     },
     "execution_count": 7,
     "metadata": {},
     "output_type": "execute_result"
    }
   ],
   "source": [
    "#write code here\n",
    "df.isnull().sum()"
   ]
  },
  {
   "cell_type": "markdown",
   "metadata": {},
   "source": [
    "**Task 6:** Check the statistics"
   ]
  },
  {
   "cell_type": "code",
   "execution_count": 8,
   "metadata": {},
   "outputs": [
    {
     "data": {
      "text/html": [
       "<div>\n",
       "<style scoped>\n",
       "    .dataframe tbody tr th:only-of-type {\n",
       "        vertical-align: middle;\n",
       "    }\n",
       "\n",
       "    .dataframe tbody tr th {\n",
       "        vertical-align: top;\n",
       "    }\n",
       "\n",
       "    .dataframe thead th {\n",
       "        text-align: right;\n",
       "    }\n",
       "</style>\n",
       "<table border=\"1\" class=\"dataframe\">\n",
       "  <thead>\n",
       "    <tr style=\"text-align: right;\">\n",
       "      <th></th>\n",
       "      <th>BALANCE</th>\n",
       "      <th>PURCHASES</th>\n",
       "      <th>INSTALLMENTS_PURCHASES</th>\n",
       "      <th>CASH_ADVANCE</th>\n",
       "      <th>CREDIT_LIMIT</th>\n",
       "      <th>PAYMENTS</th>\n",
       "      <th>MINIMUM_PAYMENTS</th>\n",
       "      <th>TENURE</th>\n",
       "    </tr>\n",
       "  </thead>\n",
       "  <tbody>\n",
       "    <tr>\n",
       "      <th>count</th>\n",
       "      <td>8950.000000</td>\n",
       "      <td>8950.000000</td>\n",
       "      <td>8950.000000</td>\n",
       "      <td>8950.000000</td>\n",
       "      <td>8950.000000</td>\n",
       "      <td>8950.000000</td>\n",
       "      <td>8950.000000</td>\n",
       "      <td>8950.000000</td>\n",
       "    </tr>\n",
       "    <tr>\n",
       "      <th>mean</th>\n",
       "      <td>1564.474828</td>\n",
       "      <td>1003.204834</td>\n",
       "      <td>411.067645</td>\n",
       "      <td>978.871112</td>\n",
       "      <td>4494.282473</td>\n",
       "      <td>1733.143852</td>\n",
       "      <td>844.906767</td>\n",
       "      <td>11.517318</td>\n",
       "    </tr>\n",
       "    <tr>\n",
       "      <th>std</th>\n",
       "      <td>2081.531879</td>\n",
       "      <td>2136.634782</td>\n",
       "      <td>904.338115</td>\n",
       "      <td>2097.163877</td>\n",
       "      <td>3638.646702</td>\n",
       "      <td>2895.063757</td>\n",
       "      <td>2332.792322</td>\n",
       "      <td>1.338331</td>\n",
       "    </tr>\n",
       "    <tr>\n",
       "      <th>min</th>\n",
       "      <td>0.000000</td>\n",
       "      <td>0.000000</td>\n",
       "      <td>0.000000</td>\n",
       "      <td>0.000000</td>\n",
       "      <td>50.000000</td>\n",
       "      <td>0.000000</td>\n",
       "      <td>0.019163</td>\n",
       "      <td>6.000000</td>\n",
       "    </tr>\n",
       "    <tr>\n",
       "      <th>25%</th>\n",
       "      <td>128.281915</td>\n",
       "      <td>39.635000</td>\n",
       "      <td>0.000000</td>\n",
       "      <td>0.000000</td>\n",
       "      <td>1600.000000</td>\n",
       "      <td>383.276166</td>\n",
       "      <td>170.857654</td>\n",
       "      <td>12.000000</td>\n",
       "    </tr>\n",
       "    <tr>\n",
       "      <th>50%</th>\n",
       "      <td>873.385231</td>\n",
       "      <td>361.280000</td>\n",
       "      <td>89.000000</td>\n",
       "      <td>0.000000</td>\n",
       "      <td>3000.000000</td>\n",
       "      <td>856.901546</td>\n",
       "      <td>312.343947</td>\n",
       "      <td>12.000000</td>\n",
       "    </tr>\n",
       "    <tr>\n",
       "      <th>75%</th>\n",
       "      <td>2054.140036</td>\n",
       "      <td>1110.130000</td>\n",
       "      <td>468.637500</td>\n",
       "      <td>1113.821139</td>\n",
       "      <td>6500.000000</td>\n",
       "      <td>1901.134317</td>\n",
       "      <td>788.713501</td>\n",
       "      <td>12.000000</td>\n",
       "    </tr>\n",
       "    <tr>\n",
       "      <th>max</th>\n",
       "      <td>19043.138560</td>\n",
       "      <td>49039.570000</td>\n",
       "      <td>22500.000000</td>\n",
       "      <td>47137.211760</td>\n",
       "      <td>30000.000000</td>\n",
       "      <td>50721.483360</td>\n",
       "      <td>76406.207520</td>\n",
       "      <td>12.000000</td>\n",
       "    </tr>\n",
       "  </tbody>\n",
       "</table>\n",
       "</div>"
      ],
      "text/plain": [
       "            BALANCE     PURCHASES  INSTALLMENTS_PURCHASES  CASH_ADVANCE  \\\n",
       "count   8950.000000   8950.000000             8950.000000   8950.000000   \n",
       "mean    1564.474828   1003.204834              411.067645    978.871112   \n",
       "std     2081.531879   2136.634782              904.338115   2097.163877   \n",
       "min        0.000000      0.000000                0.000000      0.000000   \n",
       "25%      128.281915     39.635000                0.000000      0.000000   \n",
       "50%      873.385231    361.280000               89.000000      0.000000   \n",
       "75%     2054.140036   1110.130000              468.637500   1113.821139   \n",
       "max    19043.138560  49039.570000            22500.000000  47137.211760   \n",
       "\n",
       "       CREDIT_LIMIT      PAYMENTS  MINIMUM_PAYMENTS       TENURE  \n",
       "count   8950.000000   8950.000000       8950.000000  8950.000000  \n",
       "mean    4494.282473   1733.143852        844.906767    11.517318  \n",
       "std     3638.646702   2895.063757       2332.792322     1.338331  \n",
       "min       50.000000      0.000000          0.019163     6.000000  \n",
       "25%     1600.000000    383.276166        170.857654    12.000000  \n",
       "50%     3000.000000    856.901546        312.343947    12.000000  \n",
       "75%     6500.000000   1901.134317        788.713501    12.000000  \n",
       "max    30000.000000  50721.483360      76406.207520    12.000000  "
      ]
     },
     "execution_count": 8,
     "metadata": {},
     "output_type": "execute_result"
    }
   ],
   "source": [
    "#write code here\n",
    "df.describe()"
   ]
  },
  {
   "cell_type": "markdown",
   "metadata": {},
   "source": [
    "**Task 7:** Remove **CUST_ID**"
   ]
  },
  {
   "cell_type": "code",
   "execution_count": 9,
   "metadata": {},
   "outputs": [],
   "source": [
    "#Write code here\n",
    "X= df.drop('CUST_ID',axis=1)"
   ]
  },
  {
   "cell_type": "code",
   "execution_count": 10,
   "metadata": {},
   "outputs": [
    {
     "data": {
      "text/html": [
       "<div>\n",
       "<style scoped>\n",
       "    .dataframe tbody tr th:only-of-type {\n",
       "        vertical-align: middle;\n",
       "    }\n",
       "\n",
       "    .dataframe tbody tr th {\n",
       "        vertical-align: top;\n",
       "    }\n",
       "\n",
       "    .dataframe thead th {\n",
       "        text-align: right;\n",
       "    }\n",
       "</style>\n",
       "<table border=\"1\" class=\"dataframe\">\n",
       "  <thead>\n",
       "    <tr style=\"text-align: right;\">\n",
       "      <th></th>\n",
       "      <th>BALANCE</th>\n",
       "      <th>PURCHASES</th>\n",
       "      <th>INSTALLMENTS_PURCHASES</th>\n",
       "      <th>CASH_ADVANCE</th>\n",
       "      <th>CREDIT_LIMIT</th>\n",
       "      <th>PAYMENTS</th>\n",
       "      <th>MINIMUM_PAYMENTS</th>\n",
       "      <th>TENURE</th>\n",
       "    </tr>\n",
       "  </thead>\n",
       "  <tbody>\n",
       "    <tr>\n",
       "      <th>0</th>\n",
       "      <td>40.900749</td>\n",
       "      <td>95.40</td>\n",
       "      <td>95.40</td>\n",
       "      <td>0.000000</td>\n",
       "      <td>1000.0</td>\n",
       "      <td>201.802084</td>\n",
       "      <td>139.509787</td>\n",
       "      <td>12</td>\n",
       "    </tr>\n",
       "    <tr>\n",
       "      <th>1</th>\n",
       "      <td>3202.467416</td>\n",
       "      <td>0.00</td>\n",
       "      <td>0.00</td>\n",
       "      <td>6442.945483</td>\n",
       "      <td>7000.0</td>\n",
       "      <td>4103.032597</td>\n",
       "      <td>1072.340217</td>\n",
       "      <td>12</td>\n",
       "    </tr>\n",
       "    <tr>\n",
       "      <th>2</th>\n",
       "      <td>2495.148862</td>\n",
       "      <td>773.17</td>\n",
       "      <td>0.00</td>\n",
       "      <td>0.000000</td>\n",
       "      <td>7500.0</td>\n",
       "      <td>622.066742</td>\n",
       "      <td>627.284787</td>\n",
       "      <td>12</td>\n",
       "    </tr>\n",
       "    <tr>\n",
       "      <th>3</th>\n",
       "      <td>1666.670542</td>\n",
       "      <td>1499.00</td>\n",
       "      <td>0.00</td>\n",
       "      <td>205.788017</td>\n",
       "      <td>7500.0</td>\n",
       "      <td>0.000000</td>\n",
       "      <td>312.343947</td>\n",
       "      <td>12</td>\n",
       "    </tr>\n",
       "    <tr>\n",
       "      <th>4</th>\n",
       "      <td>817.714335</td>\n",
       "      <td>16.00</td>\n",
       "      <td>0.00</td>\n",
       "      <td>0.000000</td>\n",
       "      <td>1200.0</td>\n",
       "      <td>678.334763</td>\n",
       "      <td>244.791237</td>\n",
       "      <td>12</td>\n",
       "    </tr>\n",
       "    <tr>\n",
       "      <th>...</th>\n",
       "      <td>...</td>\n",
       "      <td>...</td>\n",
       "      <td>...</td>\n",
       "      <td>...</td>\n",
       "      <td>...</td>\n",
       "      <td>...</td>\n",
       "      <td>...</td>\n",
       "      <td>...</td>\n",
       "    </tr>\n",
       "    <tr>\n",
       "      <th>8945</th>\n",
       "      <td>28.493517</td>\n",
       "      <td>291.12</td>\n",
       "      <td>291.12</td>\n",
       "      <td>0.000000</td>\n",
       "      <td>1000.0</td>\n",
       "      <td>325.594462</td>\n",
       "      <td>48.886365</td>\n",
       "      <td>6</td>\n",
       "    </tr>\n",
       "    <tr>\n",
       "      <th>8946</th>\n",
       "      <td>19.183215</td>\n",
       "      <td>300.00</td>\n",
       "      <td>300.00</td>\n",
       "      <td>0.000000</td>\n",
       "      <td>1000.0</td>\n",
       "      <td>275.861322</td>\n",
       "      <td>312.343947</td>\n",
       "      <td>6</td>\n",
       "    </tr>\n",
       "    <tr>\n",
       "      <th>8947</th>\n",
       "      <td>23.398673</td>\n",
       "      <td>144.40</td>\n",
       "      <td>144.40</td>\n",
       "      <td>0.000000</td>\n",
       "      <td>1000.0</td>\n",
       "      <td>81.270775</td>\n",
       "      <td>82.418369</td>\n",
       "      <td>6</td>\n",
       "    </tr>\n",
       "    <tr>\n",
       "      <th>8948</th>\n",
       "      <td>13.457564</td>\n",
       "      <td>0.00</td>\n",
       "      <td>0.00</td>\n",
       "      <td>36.558778</td>\n",
       "      <td>500.0</td>\n",
       "      <td>52.549959</td>\n",
       "      <td>55.755628</td>\n",
       "      <td>6</td>\n",
       "    </tr>\n",
       "    <tr>\n",
       "      <th>8949</th>\n",
       "      <td>372.708075</td>\n",
       "      <td>1093.25</td>\n",
       "      <td>0.00</td>\n",
       "      <td>127.040008</td>\n",
       "      <td>1200.0</td>\n",
       "      <td>63.165404</td>\n",
       "      <td>88.288956</td>\n",
       "      <td>6</td>\n",
       "    </tr>\n",
       "  </tbody>\n",
       "</table>\n",
       "<p>8950 rows × 8 columns</p>\n",
       "</div>"
      ],
      "text/plain": [
       "          BALANCE  PURCHASES  INSTALLMENTS_PURCHASES  CASH_ADVANCE  \\\n",
       "0       40.900749      95.40                   95.40      0.000000   \n",
       "1     3202.467416       0.00                    0.00   6442.945483   \n",
       "2     2495.148862     773.17                    0.00      0.000000   \n",
       "3     1666.670542    1499.00                    0.00    205.788017   \n",
       "4      817.714335      16.00                    0.00      0.000000   \n",
       "...           ...        ...                     ...           ...   \n",
       "8945    28.493517     291.12                  291.12      0.000000   \n",
       "8946    19.183215     300.00                  300.00      0.000000   \n",
       "8947    23.398673     144.40                  144.40      0.000000   \n",
       "8948    13.457564       0.00                    0.00     36.558778   \n",
       "8949   372.708075    1093.25                    0.00    127.040008   \n",
       "\n",
       "      CREDIT_LIMIT     PAYMENTS  MINIMUM_PAYMENTS  TENURE  \n",
       "0           1000.0   201.802084        139.509787      12  \n",
       "1           7000.0  4103.032597       1072.340217      12  \n",
       "2           7500.0   622.066742        627.284787      12  \n",
       "3           7500.0     0.000000        312.343947      12  \n",
       "4           1200.0   678.334763        244.791237      12  \n",
       "...            ...          ...               ...     ...  \n",
       "8945        1000.0   325.594462         48.886365       6  \n",
       "8946        1000.0   275.861322        312.343947       6  \n",
       "8947        1000.0    81.270775         82.418369       6  \n",
       "8948         500.0    52.549959         55.755628       6  \n",
       "8949        1200.0    63.165404         88.288956       6  \n",
       "\n",
       "[8950 rows x 8 columns]"
      ]
     },
     "execution_count": 10,
     "metadata": {},
     "output_type": "execute_result"
    }
   ],
   "source": [
    "X"
   ]
  },
  {
   "cell_type": "markdown",
   "metadata": {},
   "source": [
    "# KMeans"
   ]
  },
  {
   "cell_type": "markdown",
   "metadata": {},
   "source": [
    "K-means clustering is a type of unsupervised learning, which is used when you have unlabeled data (i.e., data without defined categories or groups). The goal of this algorithm is to find groups in the data, with the number of groups represented by the variable K. The algorithm works iteratively to assign each data point to one of K groups based on the features that are provided. Data points are clustered based on feature similarity. The results of the K-means clustering algorithm are:\n",
    "<br><br>\n",
    "<li>The centroids of the K clusters, which can be used to label new data</li>\n",
    "<li>Labels for the training data (each data point is assigned to a single cluster)</li><br>\n",
    "Rather than defining groups before looking at the data, clustering allows you to find and analyze the groups that have formed organically. The \"Choosing K\" section below describes how the number of groups can be determined.  \n",
    "\n",
    "Each centroid of a cluster is a collection of feature values which define the resulting groups. Examining the centroid feature weights can be used to qualitatively interpret what kind of group each cluster represents. "
   ]
  },
  {
   "cell_type": "code",
   "execution_count": 11,
   "metadata": {},
   "outputs": [
    {
     "data": {
      "text/plain": [
       "KMeans(n_clusters=5, random_state=0)"
      ]
     },
     "execution_count": 11,
     "metadata": {},
     "output_type": "execute_result"
    }
   ],
   "source": [
    "kmeans = KMeans(n_clusters=5, random_state=0)\n",
    "kmeans.fit(X)"
   ]
  },
  {
   "cell_type": "markdown",
   "metadata": {},
   "source": [
    "Kmean.fit command runs the Kmean algorithm on the provided dataset."
   ]
  },
  {
   "cell_type": "markdown",
   "metadata": {},
   "source": [
    "Now lets make a copy of df in a new variable ***pred***.\n",
    "To get to know that which observation belongs to which cluster, there is an attribute ***labels_***. This will return the list of labels and assign it to the new column ***kmean1***"
   ]
  },
  {
   "cell_type": "code",
   "execution_count": 12,
   "metadata": {},
   "outputs": [
    {
     "data": {
      "text/html": [
       "<div>\n",
       "<style scoped>\n",
       "    .dataframe tbody tr th:only-of-type {\n",
       "        vertical-align: middle;\n",
       "    }\n",
       "\n",
       "    .dataframe tbody tr th {\n",
       "        vertical-align: top;\n",
       "    }\n",
       "\n",
       "    .dataframe thead th {\n",
       "        text-align: right;\n",
       "    }\n",
       "</style>\n",
       "<table border=\"1\" class=\"dataframe\">\n",
       "  <thead>\n",
       "    <tr style=\"text-align: right;\">\n",
       "      <th></th>\n",
       "      <th>BALANCE</th>\n",
       "      <th>PURCHASES</th>\n",
       "      <th>INSTALLMENTS_PURCHASES</th>\n",
       "      <th>CASH_ADVANCE</th>\n",
       "      <th>CREDIT_LIMIT</th>\n",
       "      <th>PAYMENTS</th>\n",
       "      <th>MINIMUM_PAYMENTS</th>\n",
       "      <th>TENURE</th>\n",
       "      <th>kmean1</th>\n",
       "    </tr>\n",
       "  </thead>\n",
       "  <tbody>\n",
       "    <tr>\n",
       "      <th>0</th>\n",
       "      <td>40.900749</td>\n",
       "      <td>95.40</td>\n",
       "      <td>95.40</td>\n",
       "      <td>0.000000</td>\n",
       "      <td>1000.0</td>\n",
       "      <td>201.802084</td>\n",
       "      <td>139.509787</td>\n",
       "      <td>12</td>\n",
       "      <td>0</td>\n",
       "    </tr>\n",
       "    <tr>\n",
       "      <th>1</th>\n",
       "      <td>3202.467416</td>\n",
       "      <td>0.00</td>\n",
       "      <td>0.00</td>\n",
       "      <td>6442.945483</td>\n",
       "      <td>7000.0</td>\n",
       "      <td>4103.032597</td>\n",
       "      <td>1072.340217</td>\n",
       "      <td>12</td>\n",
       "      <td>4</td>\n",
       "    </tr>\n",
       "    <tr>\n",
       "      <th>2</th>\n",
       "      <td>2495.148862</td>\n",
       "      <td>773.17</td>\n",
       "      <td>0.00</td>\n",
       "      <td>0.000000</td>\n",
       "      <td>7500.0</td>\n",
       "      <td>622.066742</td>\n",
       "      <td>627.284787</td>\n",
       "      <td>12</td>\n",
       "      <td>1</td>\n",
       "    </tr>\n",
       "    <tr>\n",
       "      <th>3</th>\n",
       "      <td>1666.670542</td>\n",
       "      <td>1499.00</td>\n",
       "      <td>0.00</td>\n",
       "      <td>205.788017</td>\n",
       "      <td>7500.0</td>\n",
       "      <td>0.000000</td>\n",
       "      <td>312.343947</td>\n",
       "      <td>12</td>\n",
       "      <td>1</td>\n",
       "    </tr>\n",
       "    <tr>\n",
       "      <th>4</th>\n",
       "      <td>817.714335</td>\n",
       "      <td>16.00</td>\n",
       "      <td>0.00</td>\n",
       "      <td>0.000000</td>\n",
       "      <td>1200.0</td>\n",
       "      <td>678.334763</td>\n",
       "      <td>244.791237</td>\n",
       "      <td>12</td>\n",
       "      <td>0</td>\n",
       "    </tr>\n",
       "    <tr>\n",
       "      <th>...</th>\n",
       "      <td>...</td>\n",
       "      <td>...</td>\n",
       "      <td>...</td>\n",
       "      <td>...</td>\n",
       "      <td>...</td>\n",
       "      <td>...</td>\n",
       "      <td>...</td>\n",
       "      <td>...</td>\n",
       "      <td>...</td>\n",
       "    </tr>\n",
       "    <tr>\n",
       "      <th>8945</th>\n",
       "      <td>28.493517</td>\n",
       "      <td>291.12</td>\n",
       "      <td>291.12</td>\n",
       "      <td>0.000000</td>\n",
       "      <td>1000.0</td>\n",
       "      <td>325.594462</td>\n",
       "      <td>48.886365</td>\n",
       "      <td>6</td>\n",
       "      <td>0</td>\n",
       "    </tr>\n",
       "    <tr>\n",
       "      <th>8946</th>\n",
       "      <td>19.183215</td>\n",
       "      <td>300.00</td>\n",
       "      <td>300.00</td>\n",
       "      <td>0.000000</td>\n",
       "      <td>1000.0</td>\n",
       "      <td>275.861322</td>\n",
       "      <td>312.343947</td>\n",
       "      <td>6</td>\n",
       "      <td>0</td>\n",
       "    </tr>\n",
       "    <tr>\n",
       "      <th>8947</th>\n",
       "      <td>23.398673</td>\n",
       "      <td>144.40</td>\n",
       "      <td>144.40</td>\n",
       "      <td>0.000000</td>\n",
       "      <td>1000.0</td>\n",
       "      <td>81.270775</td>\n",
       "      <td>82.418369</td>\n",
       "      <td>6</td>\n",
       "      <td>0</td>\n",
       "    </tr>\n",
       "    <tr>\n",
       "      <th>8948</th>\n",
       "      <td>13.457564</td>\n",
       "      <td>0.00</td>\n",
       "      <td>0.00</td>\n",
       "      <td>36.558778</td>\n",
       "      <td>500.0</td>\n",
       "      <td>52.549959</td>\n",
       "      <td>55.755628</td>\n",
       "      <td>6</td>\n",
       "      <td>0</td>\n",
       "    </tr>\n",
       "    <tr>\n",
       "      <th>8949</th>\n",
       "      <td>372.708075</td>\n",
       "      <td>1093.25</td>\n",
       "      <td>0.00</td>\n",
       "      <td>127.040008</td>\n",
       "      <td>1200.0</td>\n",
       "      <td>63.165404</td>\n",
       "      <td>88.288956</td>\n",
       "      <td>6</td>\n",
       "      <td>0</td>\n",
       "    </tr>\n",
       "  </tbody>\n",
       "</table>\n",
       "<p>8950 rows × 9 columns</p>\n",
       "</div>"
      ],
      "text/plain": [
       "          BALANCE  PURCHASES  INSTALLMENTS_PURCHASES  CASH_ADVANCE  \\\n",
       "0       40.900749      95.40                   95.40      0.000000   \n",
       "1     3202.467416       0.00                    0.00   6442.945483   \n",
       "2     2495.148862     773.17                    0.00      0.000000   \n",
       "3     1666.670542    1499.00                    0.00    205.788017   \n",
       "4      817.714335      16.00                    0.00      0.000000   \n",
       "...           ...        ...                     ...           ...   \n",
       "8945    28.493517     291.12                  291.12      0.000000   \n",
       "8946    19.183215     300.00                  300.00      0.000000   \n",
       "8947    23.398673     144.40                  144.40      0.000000   \n",
       "8948    13.457564       0.00                    0.00     36.558778   \n",
       "8949   372.708075    1093.25                    0.00    127.040008   \n",
       "\n",
       "      CREDIT_LIMIT     PAYMENTS  MINIMUM_PAYMENTS  TENURE  kmean1  \n",
       "0           1000.0   201.802084        139.509787      12       0  \n",
       "1           7000.0  4103.032597       1072.340217      12       4  \n",
       "2           7500.0   622.066742        627.284787      12       1  \n",
       "3           7500.0     0.000000        312.343947      12       1  \n",
       "4           1200.0   678.334763        244.791237      12       0  \n",
       "...            ...          ...               ...     ...     ...  \n",
       "8945        1000.0   325.594462         48.886365       6       0  \n",
       "8946        1000.0   275.861322        312.343947       6       0  \n",
       "8947        1000.0    81.270775         82.418369       6       0  \n",
       "8948         500.0    52.549959         55.755628       6       0  \n",
       "8949        1200.0    63.165404         88.288956       6       0  \n",
       "\n",
       "[8950 rows x 9 columns]"
      ]
     },
     "execution_count": 12,
     "metadata": {},
     "output_type": "execute_result"
    }
   ],
   "source": [
    "pred = X.copy()\n",
    "pred['kmean1'] = kmeans.labels_\n",
    "pred"
   ]
  },
  {
   "cell_type": "markdown",
   "metadata": {},
   "source": [
    "The **kmean1** column shows the lables of the Kmean algorithm. For example row index 0 belongs to cluster 0 and row 1 belongs to cluster 1 and row 2 belongs to cluster 4 and so on"
   ]
  },
  {
   "cell_type": "code",
   "execution_count": 13,
   "metadata": {},
   "outputs": [
    {
     "data": {
      "text/plain": [
       "array([0, 4, 1, ..., 0, 0, 0])"
      ]
     },
     "execution_count": 13,
     "metadata": {},
     "output_type": "execute_result"
    }
   ],
   "source": [
    "kmeans.labels_"
   ]
  },
  {
   "cell_type": "code",
   "execution_count": 14,
   "metadata": {},
   "outputs": [
    {
     "data": {
      "text/plain": [
       "0    5442\n",
       "1    2461\n",
       "4     882\n",
       "3     109\n",
       "2      56\n",
       "Name: kmean1, dtype: int64"
      ]
     },
     "execution_count": 14,
     "metadata": {},
     "output_type": "execute_result"
    }
   ],
   "source": [
    "pred['kmean1'].value_counts()"
   ]
  },
  {
   "cell_type": "markdown",
   "metadata": {},
   "source": [
    "The above output shows the number of obervations in each cluster"
   ]
  },
  {
   "cell_type": "markdown",
   "metadata": {},
   "source": [
    "# Scaling"
   ]
  },
  {
   "cell_type": "markdown",
   "metadata": {},
   "source": [
    "#### Why need scaling?\n",
    "<br>Since the range of values of raw data varies widely, in some machine learning algorithms, objective functions will not work properly without normalization."
   ]
  },
  {
   "cell_type": "markdown",
   "metadata": {},
   "source": [
    "### Scaling using min max"
   ]
  },
  {
   "cell_type": "markdown",
   "metadata": {},
   "source": [
    "Also known as min-max scaling or min-max normalization, is the simplest method and consists in rescaling the range of features to scale the range in [0, 1]. Selecting the target range depends on the nature of the data. The general formula is given as:\n",
    "<br>\n",
    "\n",
    "*Formula*\n",
    "<br>zi=(xi−min(x))/(max(x)−min(x))"
   ]
  },
  {
   "cell_type": "markdown",
   "metadata": {},
   "source": [
    "### Scaling using MinMaxScaler function"
   ]
  },
  {
   "cell_type": "code",
   "execution_count": 15,
   "metadata": {},
   "outputs": [],
   "source": [
    "from sklearn.preprocessing import MinMaxScaler"
   ]
  },
  {
   "cell_type": "code",
   "execution_count": 16,
   "metadata": {},
   "outputs": [],
   "source": [
    "scaler = MinMaxScaler() "
   ]
  },
  {
   "cell_type": "code",
   "execution_count": 17,
   "metadata": {},
   "outputs": [],
   "source": [
    "new=scaler.fit_transform(X)"
   ]
  },
  {
   "cell_type": "code",
   "execution_count": 18,
   "metadata": {},
   "outputs": [
    {
     "data": {
      "text/plain": [
       "numpy.ndarray"
      ]
     },
     "execution_count": 18,
     "metadata": {},
     "output_type": "execute_result"
    }
   ],
   "source": [
    "type(new)"
   ]
  },
  {
   "cell_type": "code",
   "execution_count": 19,
   "metadata": {
    "scrolled": true
   },
   "outputs": [
    {
     "data": {
      "text/plain": [
       "array([[2.14779454e-03, 1.94536779e-03, 4.24000000e-03, ...,\n",
       "        3.97863135e-03, 1.82564563e-03, 1.00000000e+00],\n",
       "       [1.68169097e-01, 0.00000000e+00, 0.00000000e+00, ...,\n",
       "        8.08933873e-02, 1.40344791e-02, 1.00000000e+00],\n",
       "       [1.31026136e-01, 1.57662475e-02, 0.00000000e+00, ...,\n",
       "        1.22643641e-02, 8.20961806e-03, 1.00000000e+00],\n",
       "       ...,\n",
       "       [1.22871936e-03, 2.94456089e-03, 6.41777778e-03, ...,\n",
       "        1.60229492e-03, 1.07843629e-03, 0.00000000e+00],\n",
       "       [7.06688341e-04, 0.00000000e+00, 0.00000000e+00, ...,\n",
       "        1.03604933e-03, 7.29475795e-04, 0.00000000e+00],\n",
       "       [1.95717777e-02, 2.22932216e-02, 0.00000000e+00, ...,\n",
       "        1.24533826e-03, 1.15527021e-03, 0.00000000e+00]])"
      ]
     },
     "execution_count": 19,
     "metadata": {},
     "output_type": "execute_result"
    }
   ],
   "source": [
    "new"
   ]
  },
  {
   "cell_type": "markdown",
   "metadata": {},
   "source": [
    "In the above step the scaling is done by the built in min max scaler function"
   ]
  },
  {
   "cell_type": "code",
   "execution_count": 20,
   "metadata": {},
   "outputs": [],
   "source": [
    "col_names=[\"BALANCE\", \"PURCHASES\",\"INSTALLMENTS_PURCHASES\",\"CASH_ADVANCE\",\"CREDIT_LIMIT\", \"PAYMENTS\", \"MINIMUM_PAYMENTS\",\"TENURE\"]"
   ]
  },
  {
   "cell_type": "code",
   "execution_count": 21,
   "metadata": {},
   "outputs": [],
   "source": [
    "scaled=pd.DataFrame(columns=col_names,data=new)"
   ]
  },
  {
   "cell_type": "code",
   "execution_count": 22,
   "metadata": {},
   "outputs": [
    {
     "data": {
      "text/html": [
       "<div>\n",
       "<style scoped>\n",
       "    .dataframe tbody tr th:only-of-type {\n",
       "        vertical-align: middle;\n",
       "    }\n",
       "\n",
       "    .dataframe tbody tr th {\n",
       "        vertical-align: top;\n",
       "    }\n",
       "\n",
       "    .dataframe thead th {\n",
       "        text-align: right;\n",
       "    }\n",
       "</style>\n",
       "<table border=\"1\" class=\"dataframe\">\n",
       "  <thead>\n",
       "    <tr style=\"text-align: right;\">\n",
       "      <th></th>\n",
       "      <th>BALANCE</th>\n",
       "      <th>PURCHASES</th>\n",
       "      <th>INSTALLMENTS_PURCHASES</th>\n",
       "      <th>CASH_ADVANCE</th>\n",
       "      <th>CREDIT_LIMIT</th>\n",
       "      <th>PAYMENTS</th>\n",
       "      <th>MINIMUM_PAYMENTS</th>\n",
       "      <th>TENURE</th>\n",
       "    </tr>\n",
       "  </thead>\n",
       "  <tbody>\n",
       "    <tr>\n",
       "      <th>0</th>\n",
       "      <td>0.002148</td>\n",
       "      <td>0.001945</td>\n",
       "      <td>0.00424</td>\n",
       "      <td>0.000000</td>\n",
       "      <td>0.031720</td>\n",
       "      <td>0.003979</td>\n",
       "      <td>0.001826</td>\n",
       "      <td>1.0</td>\n",
       "    </tr>\n",
       "    <tr>\n",
       "      <th>1</th>\n",
       "      <td>0.168169</td>\n",
       "      <td>0.000000</td>\n",
       "      <td>0.00000</td>\n",
       "      <td>0.136685</td>\n",
       "      <td>0.232053</td>\n",
       "      <td>0.080893</td>\n",
       "      <td>0.014034</td>\n",
       "      <td>1.0</td>\n",
       "    </tr>\n",
       "    <tr>\n",
       "      <th>2</th>\n",
       "      <td>0.131026</td>\n",
       "      <td>0.015766</td>\n",
       "      <td>0.00000</td>\n",
       "      <td>0.000000</td>\n",
       "      <td>0.248748</td>\n",
       "      <td>0.012264</td>\n",
       "      <td>0.008210</td>\n",
       "      <td>1.0</td>\n",
       "    </tr>\n",
       "    <tr>\n",
       "      <th>3</th>\n",
       "      <td>0.087521</td>\n",
       "      <td>0.030567</td>\n",
       "      <td>0.00000</td>\n",
       "      <td>0.004366</td>\n",
       "      <td>0.248748</td>\n",
       "      <td>0.000000</td>\n",
       "      <td>0.004088</td>\n",
       "      <td>1.0</td>\n",
       "    </tr>\n",
       "    <tr>\n",
       "      <th>4</th>\n",
       "      <td>0.042940</td>\n",
       "      <td>0.000326</td>\n",
       "      <td>0.00000</td>\n",
       "      <td>0.000000</td>\n",
       "      <td>0.038397</td>\n",
       "      <td>0.013374</td>\n",
       "      <td>0.003204</td>\n",
       "      <td>1.0</td>\n",
       "    </tr>\n",
       "  </tbody>\n",
       "</table>\n",
       "</div>"
      ],
      "text/plain": [
       "    BALANCE  PURCHASES  INSTALLMENTS_PURCHASES  CASH_ADVANCE  CREDIT_LIMIT  \\\n",
       "0  0.002148   0.001945                 0.00424      0.000000      0.031720   \n",
       "1  0.168169   0.000000                 0.00000      0.136685      0.232053   \n",
       "2  0.131026   0.015766                 0.00000      0.000000      0.248748   \n",
       "3  0.087521   0.030567                 0.00000      0.004366      0.248748   \n",
       "4  0.042940   0.000326                 0.00000      0.000000      0.038397   \n",
       "\n",
       "   PAYMENTS  MINIMUM_PAYMENTS  TENURE  \n",
       "0  0.003979          0.001826     1.0  \n",
       "1  0.080893          0.014034     1.0  \n",
       "2  0.012264          0.008210     1.0  \n",
       "3  0.000000          0.004088     1.0  \n",
       "4  0.013374          0.003204     1.0  "
      ]
     },
     "execution_count": 22,
     "metadata": {},
     "output_type": "execute_result"
    }
   ],
   "source": [
    "scaled.head()"
   ]
  },
  {
   "cell_type": "markdown",
   "metadata": {},
   "source": [
    "Now we will use the scaled variables and see how our clusters differ"
   ]
  },
  {
   "cell_type": "markdown",
   "metadata": {},
   "source": [
    "**Task 8:** Apply ***fit*** on **scaled** dataset and put the labels in the predicted data.\n",
    "\n",
    "Also display value count"
   ]
  },
  {
   "cell_type": "code",
   "execution_count": 23,
   "metadata": {},
   "outputs": [
    {
     "data": {
      "text/html": [
       "<div>\n",
       "<style scoped>\n",
       "    .dataframe tbody tr th:only-of-type {\n",
       "        vertical-align: middle;\n",
       "    }\n",
       "\n",
       "    .dataframe tbody tr th {\n",
       "        vertical-align: top;\n",
       "    }\n",
       "\n",
       "    .dataframe thead th {\n",
       "        text-align: right;\n",
       "    }\n",
       "</style>\n",
       "<table border=\"1\" class=\"dataframe\">\n",
       "  <thead>\n",
       "    <tr style=\"text-align: right;\">\n",
       "      <th></th>\n",
       "      <th>BALANCE</th>\n",
       "      <th>PURCHASES</th>\n",
       "      <th>INSTALLMENTS_PURCHASES</th>\n",
       "      <th>CASH_ADVANCE</th>\n",
       "      <th>CREDIT_LIMIT</th>\n",
       "      <th>PAYMENTS</th>\n",
       "      <th>MINIMUM_PAYMENTS</th>\n",
       "      <th>TENURE</th>\n",
       "      <th>kmean1</th>\n",
       "      <th>kmean2</th>\n",
       "    </tr>\n",
       "  </thead>\n",
       "  <tbody>\n",
       "    <tr>\n",
       "      <th>0</th>\n",
       "      <td>40.900749</td>\n",
       "      <td>95.40</td>\n",
       "      <td>95.4</td>\n",
       "      <td>0.000000</td>\n",
       "      <td>1000.0</td>\n",
       "      <td>201.802084</td>\n",
       "      <td>139.509787</td>\n",
       "      <td>12</td>\n",
       "      <td>0</td>\n",
       "      <td>2</td>\n",
       "    </tr>\n",
       "    <tr>\n",
       "      <th>1</th>\n",
       "      <td>3202.467416</td>\n",
       "      <td>0.00</td>\n",
       "      <td>0.0</td>\n",
       "      <td>6442.945483</td>\n",
       "      <td>7000.0</td>\n",
       "      <td>4103.032597</td>\n",
       "      <td>1072.340217</td>\n",
       "      <td>12</td>\n",
       "      <td>4</td>\n",
       "      <td>0</td>\n",
       "    </tr>\n",
       "    <tr>\n",
       "      <th>2</th>\n",
       "      <td>2495.148862</td>\n",
       "      <td>773.17</td>\n",
       "      <td>0.0</td>\n",
       "      <td>0.000000</td>\n",
       "      <td>7500.0</td>\n",
       "      <td>622.066742</td>\n",
       "      <td>627.284787</td>\n",
       "      <td>12</td>\n",
       "      <td>1</td>\n",
       "      <td>0</td>\n",
       "    </tr>\n",
       "    <tr>\n",
       "      <th>3</th>\n",
       "      <td>1666.670542</td>\n",
       "      <td>1499.00</td>\n",
       "      <td>0.0</td>\n",
       "      <td>205.788017</td>\n",
       "      <td>7500.0</td>\n",
       "      <td>0.000000</td>\n",
       "      <td>312.343947</td>\n",
       "      <td>12</td>\n",
       "      <td>1</td>\n",
       "      <td>0</td>\n",
       "    </tr>\n",
       "    <tr>\n",
       "      <th>4</th>\n",
       "      <td>817.714335</td>\n",
       "      <td>16.00</td>\n",
       "      <td>0.0</td>\n",
       "      <td>0.000000</td>\n",
       "      <td>1200.0</td>\n",
       "      <td>678.334763</td>\n",
       "      <td>244.791237</td>\n",
       "      <td>12</td>\n",
       "      <td>0</td>\n",
       "      <td>2</td>\n",
       "    </tr>\n",
       "  </tbody>\n",
       "</table>\n",
       "</div>"
      ],
      "text/plain": [
       "       BALANCE  PURCHASES  INSTALLMENTS_PURCHASES  CASH_ADVANCE  CREDIT_LIMIT  \\\n",
       "0    40.900749      95.40                    95.4      0.000000        1000.0   \n",
       "1  3202.467416       0.00                     0.0   6442.945483        7000.0   \n",
       "2  2495.148862     773.17                     0.0      0.000000        7500.0   \n",
       "3  1666.670542    1499.00                     0.0    205.788017        7500.0   \n",
       "4   817.714335      16.00                     0.0      0.000000        1200.0   \n",
       "\n",
       "      PAYMENTS  MINIMUM_PAYMENTS  TENURE  kmean1  kmean2  \n",
       "0   201.802084        139.509787      12       0       2  \n",
       "1  4103.032597       1072.340217      12       4       0  \n",
       "2   622.066742        627.284787      12       1       0  \n",
       "3     0.000000        312.343947      12       1       0  \n",
       "4   678.334763        244.791237      12       0       2  "
      ]
     },
     "execution_count": 23,
     "metadata": {},
     "output_type": "execute_result"
    }
   ],
   "source": [
    "#Write code here\n",
    "kmean2 = KMeans(n_clusters=5, random_state=0 )\n",
    "#Write code to fit\n",
    "kmean2.fit(scaled)\n",
    "\n",
    "#Write code to put labels into predicted data\n",
    "pred['kmean2'] = kmean2.labels_\n",
    "\n",
    "#View the final data set i.e top 5 rows\n",
    "pred.head()\n"
   ]
  },
  {
   "cell_type": "code",
   "execution_count": 24,
   "metadata": {},
   "outputs": [
    {
     "data": {
      "text/plain": [
       "2    4988\n",
       "0    2137\n",
       "3     834\n",
       "1     589\n",
       "4     402\n",
       "Name: kmean2, dtype: int64"
      ]
     },
     "execution_count": 24,
     "metadata": {},
     "output_type": "execute_result"
    }
   ],
   "source": [
    "#Write code here to view value counts\n",
    "pred['kmean2'].value_counts()"
   ]
  },
  {
   "cell_type": "markdown",
   "metadata": {},
   "source": [
    "From the above output you can see that now the distribution of the clusters has changed"
   ]
  },
  {
   "cell_type": "markdown",
   "metadata": {},
   "source": [
    "## Choosing K"
   ]
  },
  {
   "cell_type": "markdown",
   "metadata": {},
   "source": [
    "### Elbow Analysis"
   ]
  },
  {
   "cell_type": "markdown",
   "metadata": {},
   "source": [
    "The Elbow method is a method of interpretation and validation of consistency within cluster analysis designed to help finding the appropriate number of clusters in a dataset."
   ]
  },
  {
   "cell_type": "markdown",
   "metadata": {},
   "source": [
    "### Working"
   ]
  },
  {
   "cell_type": "markdown",
   "metadata": {},
   "source": [
    "One method to validate the number of clusters is the elbow method. The idea of the elbow method is to run k-means clustering on the dataset for a range of values of k (say, k from 1 to 10 in the examples above), and for each value of k calculate the sum of squared errors (SSE).Then, plot a line chart of the SSE for each value of k. If the line chart looks like an arm, then the \"elbow\" on the arm is the value of k that is the best. The idea is that we want a small SSE, but that the SSE tends to decrease toward 0 as we increase k (the SSE is 0 when k is equal to the number of data points in the dataset, because then each data point is its own cluster, and there is no error between it and the center of its cluster). So our goal is to choose a small value of k that still has a low SSE, and the elbow usually represents where we start to have diminishing returns by increasing k"
   ]
  },
  {
   "cell_type": "code",
   "execution_count": 25,
   "metadata": {},
   "outputs": [],
   "source": [
    "cost = []\n",
    "for k in range(1, 15):\n",
    "    kmeanModel = KMeans(n_clusters=k, random_state=0).fit(scaled)\n",
    "    cost.append([k,kmeanModel.inertia_])"
   ]
  },
  {
   "cell_type": "code",
   "execution_count": 26,
   "metadata": {},
   "outputs": [
    {
     "data": {
      "text/plain": [
       "[[1, 770.9083010722921],\n",
       " [2, 382.44088620697397],\n",
       " [3, 259.8462478906296],\n",
       " [4, 221.90778665101385],\n",
       " [5, 187.9293924488222],\n",
       " [6, 167.71482942567],\n",
       " [7, 153.16898941363806],\n",
       " [8, 141.2464397986617],\n",
       " [9, 134.82126714399564],\n",
       " [10, 122.93725109782945],\n",
       " [11, 117.16711418308827],\n",
       " [12, 112.66997659412785],\n",
       " [13, 107.76257269085856],\n",
       " [14, 103.29063425536947]]"
      ]
     },
     "execution_count": 26,
     "metadata": {},
     "output_type": "execute_result"
    }
   ],
   "source": [
    "cost"
   ]
  },
  {
   "cell_type": "code",
   "execution_count": 27,
   "metadata": {},
   "outputs": [
    {
     "data": {
      "image/png": "[encoded data removed]",
      "text/plain": [
       "<Figure size 1080x432 with 1 Axes>"
      ]
     },
     "metadata": {
      "needs_background": "light"
     },
     "output_type": "display_data"
    }
   ],
   "source": [
    "plt.figure(figsize=(15,6))\n",
    "sns.set_context('poster')\n",
    "plt.plot(pd.DataFrame(cost)[0], pd.DataFrame(cost)[1])\n",
    "plt.xlabel('k')\n",
    "plt.ylabel('Cost')\n",
    "plt.title('The Elbow Method showing the optimal k') \n",
    "plt.show()"
   ]
  },
  {
   "cell_type": "markdown",
   "metadata": {},
   "source": [
    "From the above graph we can see that the elbow is formed when the input was 3 clusters.\n",
    "<br>But before proceding, let us check the **Silhouette Score**"
   ]
  },
  {
   "cell_type": "markdown",
   "metadata": {},
   "source": [
    "### Silhouette Score"
   ]
  },
  {
   "cell_type": "markdown",
   "metadata": {},
   "source": [
    "The Silhouette Coefficient is calculated using the mean intra-cluster distance (a) and the mean nearest-cluster distance (b) for each sample. The Silhouette Coefficient for a sample is (b - a) / max(a, b). To clarify, b is the distance between a sample and the nearest cluster that the sample is not a part of. Note that Silhouette Coefficient is only defined if number of labels is 2 <= n_labels <= n_samples - 1."
   ]
  },
  {
   "cell_type": "code",
   "execution_count": 28,
   "metadata": {},
   "outputs": [],
   "source": [
    "from sklearn.metrics import silhouette_score"
   ]
  },
  {
   "cell_type": "code",
   "execution_count": 29,
   "metadata": {},
   "outputs": [],
   "source": [
    "#add plot\n",
    "s_score = []\n",
    "for k in range(2, 15):\n",
    "    kmeans = KMeans(n_clusters=k, random_state=0).fit(scaled)\n",
    "    s_score.append([k, silhouette_score(scaled, kmeans.labels_)])"
   ]
  },
  {
   "cell_type": "code",
   "execution_count": 30,
   "metadata": {},
   "outputs": [
    {
     "data": {
      "text/plain": [
       "[[2, 0.6924390439486894],\n",
       " [3, 0.5061589775989301],\n",
       " [4, 0.3905378421218057],\n",
       " [5, 0.40057670830373643],\n",
       " [6, 0.419413443359729],\n",
       " [7, 0.4212480165790325],\n",
       " [8, 0.4250056118549086],\n",
       " [9, 0.36003616109296893],\n",
       " [10, 0.3310310679455718],\n",
       " [11, 0.328882434128413],\n",
       " [12, 0.3300206539168908],\n",
       " [13, 0.3235386887723631],\n",
       " [14, 0.31080596238542985]]"
      ]
     },
     "execution_count": 30,
     "metadata": {},
     "output_type": "execute_result"
    }
   ],
   "source": [
    "s_score"
   ]
  },
  {
   "cell_type": "code",
   "execution_count": 31,
   "metadata": {},
   "outputs": [
    {
     "data": {
      "image/png": "[encoded data removed]",
      "text/plain": [
       "<Figure size 1080x432 with 1 Axes>"
      ]
     },
     "metadata": {
      "needs_background": "light"
     },
     "output_type": "display_data"
    }
   ],
   "source": [
    "plt.figure(figsize=(15,6))\n",
    "sns.set_context('poster')\n",
    "plt.plot( pd.DataFrame(s_score)[0], pd.DataFrame(s_score)[1])\n",
    "plt.xlabel('clusters')\n",
    "plt.ylabel('score')\n",
    "plt.title('The silhouette score') \n",
    "plt.show()"
   ]
  },
  {
   "cell_type": "markdown",
   "metadata": {},
   "source": [
    "## Final clusters using K-Means"
   ]
  },
  {
   "cell_type": "markdown",
   "metadata": {},
   "source": [
    "After checking the **Elbow Score** and **Silhoute Score**, we can conclude that number of clusters/k should be 3."
   ]
  },
  {
   "cell_type": "markdown",
   "metadata": {},
   "source": [
    "**Task 9:** Apply kmeans algorithm with number of clusters = 3. Also assign values to the predicted data and check value count."
   ]
  },
  {
   "cell_type": "code",
   "execution_count": 32,
   "metadata": {},
   "outputs": [
    {
     "data": {
      "text/plain": [
       "0    6479\n",
       "2    1707\n",
       "1     764\n",
       "Name: kmean3, dtype: int64"
      ]
     },
     "execution_count": 32,
     "metadata": {},
     "output_type": "execute_result"
    }
   ],
   "source": [
    "#Write code here\n",
    "kmean3 = KMeans(n_clusters=3,random_state=0)\n",
    "\n",
    "#write code to fit\n",
    "kmean3.fit(scaled)\n",
    "\n",
    "#Write code to assign labels to predicted data\n",
    "pred['kmean3'] = kmean3.labels_\n",
    "\n",
    "#Write code to display value counts\n",
    "pred['kmean3'].value_counts()\n"
   ]
  },
  {
   "cell_type": "markdown",
   "metadata": {},
   "source": [
    "## Profiling"
   ]
  },
  {
   "cell_type": "markdown",
   "metadata": {},
   "source": [
    "**Profiling and its usage**<br>\n",
    "Having decided (for now) how many clusters to use, we would like to get a better understanding of what values are in those clusters are and interpret them.\n",
    "\n",
    "Data analytics is used to eventually make decisions, and that is feasible only when we are comfortable (enough) with our understanding of the analytics results, including our ability to clearly interpret them.\n",
    "\n",
    "To this purpose, one needs to spend time visualizing and understanding the data within each of the selected clusters. For example, one can see how the summary statistics (e.g. averages, standard deviations, etc) of the profiling attributes differ across the segments."
   ]
  },
  {
   "cell_type": "markdown",
   "metadata": {},
   "source": [
    "In our case, assuming we decided we use the 3 clusters found using kmean algorithm as outlined above, we can see how the responses changes across clusters. The average values of our data within each cluster are:"
   ]
  },
  {
   "cell_type": "code",
   "execution_count": 33,
   "metadata": {},
   "outputs": [
    {
     "name": "stderr",
     "output_type": "stream",
     "text": [
      "D:\\Anaconda3\\lib\\site-packages\\ipykernel_launcher.py:2: FutureWarning: Indexing with multiple keys (implicitly converted to a tuple of keys) will be deprecated, use a list instead.\n",
      "  \n"
     ]
    },
    {
     "data": {
      "text/html": [
       "<div>\n",
       "<style scoped>\n",
       "    .dataframe tbody tr th:only-of-type {\n",
       "        vertical-align: middle;\n",
       "    }\n",
       "\n",
       "    .dataframe tbody tr th {\n",
       "        vertical-align: top;\n",
       "    }\n",
       "\n",
       "    .dataframe thead th {\n",
       "        text-align: right;\n",
       "    }\n",
       "</style>\n",
       "<table border=\"1\" class=\"dataframe\">\n",
       "  <thead>\n",
       "    <tr style=\"text-align: right;\">\n",
       "      <th></th>\n",
       "      <th>kmean3</th>\n",
       "      <th>BALANCE</th>\n",
       "      <th>PURCHASES</th>\n",
       "      <th>INSTALLMENTS_PURCHASES</th>\n",
       "      <th>CASH_ADVANCE</th>\n",
       "      <th>CREDIT_LIMIT</th>\n",
       "      <th>PAYMENTS</th>\n",
       "      <th>MINIMUM_PAYMENTS</th>\n",
       "      <th>TENURE</th>\n",
       "    </tr>\n",
       "  </thead>\n",
       "  <tbody>\n",
       "    <tr>\n",
       "      <th>0</th>\n",
       "      <td>0</td>\n",
       "      <td>559.917793</td>\n",
       "      <td>347.55</td>\n",
       "      <td>96.00</td>\n",
       "      <td>0.000000</td>\n",
       "      <td>2725.0</td>\n",
       "      <td>702.068789</td>\n",
       "      <td>259.351800</td>\n",
       "      <td>12</td>\n",
       "    </tr>\n",
       "    <tr>\n",
       "      <th>1</th>\n",
       "      <td>1</td>\n",
       "      <td>486.084834</td>\n",
       "      <td>179.50</td>\n",
       "      <td>0.00</td>\n",
       "      <td>451.892161</td>\n",
       "      <td>1500.0</td>\n",
       "      <td>324.621485</td>\n",
       "      <td>195.124764</td>\n",
       "      <td>7</td>\n",
       "    </tr>\n",
       "    <tr>\n",
       "      <th>2</th>\n",
       "      <td>2</td>\n",
       "      <td>4282.043906</td>\n",
       "      <td>741.02</td>\n",
       "      <td>113.72</td>\n",
       "      <td>1424.442602</td>\n",
       "      <td>9000.0</td>\n",
       "      <td>2055.673322</td>\n",
       "      <td>1242.754558</td>\n",
       "      <td>12</td>\n",
       "    </tr>\n",
       "  </tbody>\n",
       "</table>\n",
       "</div>"
      ],
      "text/plain": [
       "   kmean3      BALANCE  PURCHASES  INSTALLMENTS_PURCHASES  CASH_ADVANCE  \\\n",
       "0       0   559.917793     347.55                   96.00      0.000000   \n",
       "1       1   486.084834     179.50                    0.00    451.892161   \n",
       "2       2  4282.043906     741.02                  113.72   1424.442602   \n",
       "\n",
       "   CREDIT_LIMIT     PAYMENTS  MINIMUM_PAYMENTS  TENURE  \n",
       "0        2725.0   702.068789        259.351800      12  \n",
       "1        1500.0   324.621485        195.124764       7  \n",
       "2        9000.0  2055.673322       1242.754558      12  "
      ]
     },
     "execution_count": 33,
     "metadata": {},
     "output_type": "execute_result"
    }
   ],
   "source": [
    "p_ = pred[[\"BALANCE\", \"PURCHASES\",\"INSTALLMENTS_PURCHASES\",\"CASH_ADVANCE\",\"CREDIT_LIMIT\", \"PAYMENTS\", \"MINIMUM_PAYMENTS\",\"TENURE\",'kmean3']]\n",
    "pivoted = p_.groupby('kmean3')[\"BALANCE\", \"PURCHASES\",\"INSTALLMENTS_PURCHASES\",\"CASH_ADVANCE\",\"CREDIT_LIMIT\", \"PAYMENTS\", \"MINIMUM_PAYMENTS\",\"TENURE\"].median().reset_index()\n",
    "pivoted\n"
   ]
  },
  {
   "cell_type": "markdown",
   "metadata": {},
   "source": [
    "# Radar Plot"
   ]
  },
  {
   "cell_type": "markdown",
   "metadata": {},
   "source": [
    "The radar chart is a chart and/or plot that consists of a sequence of equi-angular spokes, called radii, with each spoke representing one of the variables. The data length of a spoke is proportional to the magnitude of the variable for the data point relative to the maximum magnitude of the variable across all data points. A line is drawn connecting the data values for each spoke. This gives the plot a star-like appearance and the origin of one of the popular names for this plot.\n",
    "\n",
    "<img src=\"https://upload.wikimedia.org/wikipedia/commons/0/00/Spider_Chart.svg\" />"
   ]
  },
  {
   "cell_type": "code",
   "execution_count": 34,
   "metadata": {},
   "outputs": [],
   "source": [
    "#!pip install chart_studio"
   ]
  },
  {
   "cell_type": "markdown",
   "metadata": {},
   "source": [
    "[Sign UP](https://plot.ly/Auth/login/?action=signup#/) on Plotly, verify your email address and regenerate your API key"
   ]
  },
  {
   "cell_type": "code",
   "execution_count": 35,
   "metadata": {},
   "outputs": [],
   "source": [
    "import chart_studio\n",
    "chart_studio.tools.set_credentials_file(username='rks143', api_key='yvRt0YaTRyLASP86pk3V')"
   ]
  },
  {
   "cell_type": "code",
   "execution_count": 36,
   "metadata": {},
   "outputs": [],
   "source": [
    "from chart_studio.tools import set_config_file\n",
    "set_config_file(plotly_domain=\"https://plotly.com\", plotly_api_domain=\"https://api.plotly.com\")"
   ]
  },
  {
   "cell_type": "code",
   "execution_count": 37,
   "metadata": {},
   "outputs": [],
   "source": [
    "import chart_studio.plotly as py\n",
    "import plotly.graph_objs as go"
   ]
  },
  {
   "cell_type": "code",
   "execution_count": 38,
   "metadata": {},
   "outputs": [],
   "source": [
    "radar_data = [\n",
    "    go.Scatterpolar(\n",
    "      r = list(pivoted.loc[0,[\"BALANCE\", \"PURCHASES\",\"INSTALLMENTS_PURCHASES\",\"CASH_ADVANCE\",\"CREDIT_LIMIT\", \"PAYMENTS\", \"MINIMUM_PAYMENTS\",\"TENURE\", 'BALANCE']]),\n",
    "      theta = [\"BALANCE\", \"PURCHASES\",\"INSTALLMENTS_PURCHASES\",\"CASH_ADVANCE\",\"CREDIT_LIMIT\", \"PAYMENTS\", \"MINIMUM_PAYMENTS\",\"TENURE\", 'BALANCE'],\n",
    "      fill = None,\n",
    "      fillcolor=None,\n",
    "      name = 'Cluster 0'\n",
    "    ),\n",
    "    go.Scatterpolar(\n",
    "      r = list(pivoted.loc[1,[\"BALANCE\", \"PURCHASES\",\"INSTALLMENTS_PURCHASES\",\"CASH_ADVANCE\",\"CREDIT_LIMIT\", \"PAYMENTS\", \"MINIMUM_PAYMENTS\",\"TENURE\", 'BALANCE']]),\n",
    "      theta = [\"BALANCE\", \"PURCHASES\",\"INSTALLMENTS_PURCHASES\",\"CASH_ADVANCE\",\"CREDIT_LIMIT\", \"PAYMENTS\", \"MINIMUM_PAYMENTS\",\"TENURE\", 'BALANCE'],\n",
    "      fill = None,\n",
    "      fillcolor=None,\n",
    "      name = 'Cluster 1'\n",
    "    ),\n",
    "    go.Scatterpolar(\n",
    "      r = list(pivoted.loc[2,[\"BALANCE\", \"PURCHASES\",\"INSTALLMENTS_PURCHASES\",\"CASH_ADVANCE\",\"CREDIT_LIMIT\", \"PAYMENTS\", \"MINIMUM_PAYMENTS\",\"TENURE\", 'BALANCE']]),\n",
    "      theta = [\"BALANCE\", \"PURCHASES\",\"INSTALLMENTS_PURCHASES\",\"CASH_ADVANCE\",\"CREDIT_LIMIT\", \"PAYMENTS\", \"MINIMUM_PAYMENTS\",\"TENURE\", 'BALANCE'],\n",
    "      fill = None,\n",
    "      fillcolor=None,\n",
    "      name = 'Cluster 2'\n",
    "    )\n",
    "]"
   ]
  },
  {
   "cell_type": "code",
   "execution_count": 39,
   "metadata": {},
   "outputs": [],
   "source": [
    "radar_layout = go.Layout(polar = dict(radialaxis = dict(visible = True,range = [0, 9000])), showlegend = True)"
   ]
  },
  {
   "cell_type": "code",
   "execution_count": 40,
   "metadata": {},
   "outputs": [
    {
     "data": {
      "text/html": [
       "\n",
       "        <iframe\n",
       "            width=\"100%\"\n",
       "            height=\"525px\"\n",
       "            src=\"https://plotly.com/~rks143/23.embed\"\n",
       "            frameborder=\"0\"\n",
       "            allowfullscreen\n",
       "        ></iframe>\n",
       "        "
      ],
      "text/plain": [
       "<IPython.lib.display.IFrame at 0x24731a95648>"
      ]
     },
     "execution_count": 40,
     "metadata": {},
     "output_type": "execute_result"
    }
   ],
   "source": [
    "fig = go.Figure(data=radar_data, layout=radar_layout)\n",
    "py.iplot(fig, filename = \"radar\")"
   ]
  },
  {
   "cell_type": "code",
   "execution_count": null,
   "metadata": {},
   "outputs": [],
   "source": []
  }
 ],
 "metadata": {
  "kernelspec": {
   "display_name": "Python 3",
   "language": "python",
   "name": "python3"
  },
  "language_info": {
   "codemirror_mode": {
    "name": "ipython",
    "version": 3
   },
   "file_extension": ".py",
   "mimetype": "text/x-python",
   "name": "python",
   "nbconvert_exporter": "python",
   "pygments_lexer": "ipython3",
   "version": "3.7.6"
  }
 },
 "nbformat": 4,
 "nbformat_minor": 2
}
