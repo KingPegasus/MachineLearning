{
 "cells": [
  {
   "cell_type": "markdown",
   "metadata": {},
   "source": [
    "# Price Prediction using Regression"
   ]
  },
  {
   "cell_type": "markdown",
   "metadata": {},
   "source": [
    "This is a tickets pricing monitoring system. It scrapes tickets pricing data periodically and stores it in a database. Ticket pricing changes based on demand and time, and there can be significant difference in price. We are creating this product mainly with ourselves in mind. Users can set up alarms using an email, choosing an origin and destination (cities), time (date and hour range picker) choosing a price reduction over mean price, etc."
   ]
  },
  {
   "cell_type": "markdown",
   "metadata": {},
   "source": [
    "**Following is the description for columns in the dataset**<br>\n",
    "- insert_date: date and time when the price was collected and written in the database<br>\n",
    "- origin: origin city <br>\n",
    "- destination: destination city <br>\n",
    "- start_date: train departure time<br>\n",
    "- end_date: train arrival time<br>\n",
    "- train_type: train service name<br>\n",
    "- price: price<br>\n",
    "- train_class: ticket class, tourist, business, etc.<br>\n",
    "- fare: ticket fare, round trip, etc <br>"
   ]
  },
  {
   "cell_type": "code",
   "execution_count": 1,
   "metadata": {},
   "outputs": [],
   "source": [
    "import pandas as pd\n",
    "import numpy as np\n",
    "import seaborn as sns\n",
    "import matplotlib.pyplot as plt\n",
    "\n",
    "%matplotlib inline\n",
    "sns.set()"
   ]
  },
  {
   "cell_type": "markdown",
   "metadata": {},
   "source": [
    "#### **Task 1: Import Dataset and create a copy of that dataset**"
   ]
  },
  {
   "cell_type": "code",
   "execution_count": 2,
   "metadata": {},
   "outputs": [],
   "source": [
    "#write code here\n",
    "data = pd.read_csv('datasets/Linear+Polynomial-Regression-PricePrediction.csv')\n",
    "df = data.copy()"
   ]
  },
  {
   "cell_type": "markdown",
   "metadata": {},
   "source": [
    "#### **Task 2: Display first five rows** "
   ]
  },
  {
   "cell_type": "code",
   "execution_count": 3,
   "metadata": {},
   "outputs": [
    {
     "data": {
      "text/html": [
       "<div>\n",
       "<style scoped>\n",
       "    .dataframe tbody tr th:only-of-type {\n",
       "        vertical-align: middle;\n",
       "    }\n",
       "\n",
       "    .dataframe tbody tr th {\n",
       "        vertical-align: top;\n",
       "    }\n",
       "\n",
       "    .dataframe thead th {\n",
       "        text-align: right;\n",
       "    }\n",
       "</style>\n",
       "<table border=\"1\" class=\"dataframe\">\n",
       "  <thead>\n",
       "    <tr style=\"text-align: right;\">\n",
       "      <th></th>\n",
       "      <th>Unnamed: 0</th>\n",
       "      <th>insert_date</th>\n",
       "      <th>origin</th>\n",
       "      <th>destination</th>\n",
       "      <th>start_date</th>\n",
       "      <th>end_date</th>\n",
       "      <th>train_type</th>\n",
       "      <th>price</th>\n",
       "      <th>train_class</th>\n",
       "      <th>fare</th>\n",
       "    </tr>\n",
       "  </thead>\n",
       "  <tbody>\n",
       "    <tr>\n",
       "      <th>0</th>\n",
       "      <td>702</td>\n",
       "      <td>2019-04-19 05:37:35</td>\n",
       "      <td>PONFERRADA</td>\n",
       "      <td>MADRID</td>\n",
       "      <td>2019-06-02 15:00:00</td>\n",
       "      <td>2019-06-02 19:42:00</td>\n",
       "      <td>MD-AVE</td>\n",
       "      <td>59.50</td>\n",
       "      <td>Turista con enlace</td>\n",
       "      <td>Flexible</td>\n",
       "    </tr>\n",
       "    <tr>\n",
       "      <th>1</th>\n",
       "      <td>703</td>\n",
       "      <td>2019-04-19 05:37:35</td>\n",
       "      <td>PONFERRADA</td>\n",
       "      <td>MADRID</td>\n",
       "      <td>2019-06-02 17:15:00</td>\n",
       "      <td>2019-06-02 23:03:00</td>\n",
       "      <td>MD-AVE</td>\n",
       "      <td>34.65</td>\n",
       "      <td>Turista con enlace</td>\n",
       "      <td>Promo +</td>\n",
       "    </tr>\n",
       "    <tr>\n",
       "      <th>2</th>\n",
       "      <td>704</td>\n",
       "      <td>2019-04-19 05:37:35</td>\n",
       "      <td>PONFERRADA</td>\n",
       "      <td>MADRID</td>\n",
       "      <td>2019-06-02 17:15:00</td>\n",
       "      <td>2019-06-02 23:10:00</td>\n",
       "      <td>MD-LD</td>\n",
       "      <td>39.95</td>\n",
       "      <td>Turista con enlace</td>\n",
       "      <td>Promo +</td>\n",
       "    </tr>\n",
       "    <tr>\n",
       "      <th>3</th>\n",
       "      <td>705</td>\n",
       "      <td>2019-04-19 05:37:35</td>\n",
       "      <td>PONFERRADA</td>\n",
       "      <td>MADRID</td>\n",
       "      <td>2019-06-02 17:15:00</td>\n",
       "      <td>2019-06-02 22:14:00</td>\n",
       "      <td>MD-AVE</td>\n",
       "      <td>40.60</td>\n",
       "      <td>Turista con enlace</td>\n",
       "      <td>Promo +</td>\n",
       "    </tr>\n",
       "    <tr>\n",
       "      <th>4</th>\n",
       "      <td>706</td>\n",
       "      <td>2019-04-19 05:37:35</td>\n",
       "      <td>PONFERRADA</td>\n",
       "      <td>MADRID</td>\n",
       "      <td>2019-06-02 18:55:00</td>\n",
       "      <td>2019-06-02 23:03:00</td>\n",
       "      <td>ALVIA</td>\n",
       "      <td>27.90</td>\n",
       "      <td>Turista</td>\n",
       "      <td>Promo</td>\n",
       "    </tr>\n",
       "  </tbody>\n",
       "</table>\n",
       "</div>"
      ],
      "text/plain": [
       "   Unnamed: 0          insert_date      origin destination  \\\n",
       "0         702  2019-04-19 05:37:35  PONFERRADA      MADRID   \n",
       "1         703  2019-04-19 05:37:35  PONFERRADA      MADRID   \n",
       "2         704  2019-04-19 05:37:35  PONFERRADA      MADRID   \n",
       "3         705  2019-04-19 05:37:35  PONFERRADA      MADRID   \n",
       "4         706  2019-04-19 05:37:35  PONFERRADA      MADRID   \n",
       "\n",
       "            start_date             end_date train_type  price  \\\n",
       "0  2019-06-02 15:00:00  2019-06-02 19:42:00     MD-AVE  59.50   \n",
       "1  2019-06-02 17:15:00  2019-06-02 23:03:00     MD-AVE  34.65   \n",
       "2  2019-06-02 17:15:00  2019-06-02 23:10:00      MD-LD  39.95   \n",
       "3  2019-06-02 17:15:00  2019-06-02 22:14:00     MD-AVE  40.60   \n",
       "4  2019-06-02 18:55:00  2019-06-02 23:03:00      ALVIA  27.90   \n",
       "\n",
       "          train_class      fare  \n",
       "0  Turista con enlace  Flexible  \n",
       "1  Turista con enlace   Promo +  \n",
       "2  Turista con enlace   Promo +  \n",
       "3  Turista con enlace   Promo +  \n",
       "4             Turista     Promo  "
      ]
     },
     "execution_count": 3,
     "metadata": {},
     "output_type": "execute_result"
    }
   ],
   "source": [
    "#write code here\n",
    "df.head()"
   ]
  },
  {
   "cell_type": "markdown",
   "metadata": {},
   "source": [
    "#### **Task 3: Drop 'unnamed: 0' column**"
   ]
  },
  {
   "cell_type": "code",
   "execution_count": 4,
   "metadata": {},
   "outputs": [
    {
     "data": {
      "text/plain": [
       "'Unnamed: 0'"
      ]
     },
     "execution_count": 4,
     "metadata": {},
     "output_type": "execute_result"
    }
   ],
   "source": [
    "df.columns[0]"
   ]
  },
  {
   "cell_type": "code",
   "execution_count": 5,
   "metadata": {},
   "outputs": [
    {
     "data": {
      "text/html": [
       "<div>\n",
       "<style scoped>\n",
       "    .dataframe tbody tr th:only-of-type {\n",
       "        vertical-align: middle;\n",
       "    }\n",
       "\n",
       "    .dataframe tbody tr th {\n",
       "        vertical-align: top;\n",
       "    }\n",
       "\n",
       "    .dataframe thead th {\n",
       "        text-align: right;\n",
       "    }\n",
       "</style>\n",
       "<table border=\"1\" class=\"dataframe\">\n",
       "  <thead>\n",
       "    <tr style=\"text-align: right;\">\n",
       "      <th></th>\n",
       "      <th>insert_date</th>\n",
       "      <th>origin</th>\n",
       "      <th>destination</th>\n",
       "      <th>start_date</th>\n",
       "      <th>end_date</th>\n",
       "      <th>train_type</th>\n",
       "      <th>price</th>\n",
       "      <th>train_class</th>\n",
       "      <th>fare</th>\n",
       "    </tr>\n",
       "  </thead>\n",
       "  <tbody>\n",
       "    <tr>\n",
       "      <th>0</th>\n",
       "      <td>2019-04-19 05:37:35</td>\n",
       "      <td>PONFERRADA</td>\n",
       "      <td>MADRID</td>\n",
       "      <td>2019-06-02 15:00:00</td>\n",
       "      <td>2019-06-02 19:42:00</td>\n",
       "      <td>MD-AVE</td>\n",
       "      <td>59.50</td>\n",
       "      <td>Turista con enlace</td>\n",
       "      <td>Flexible</td>\n",
       "    </tr>\n",
       "    <tr>\n",
       "      <th>1</th>\n",
       "      <td>2019-04-19 05:37:35</td>\n",
       "      <td>PONFERRADA</td>\n",
       "      <td>MADRID</td>\n",
       "      <td>2019-06-02 17:15:00</td>\n",
       "      <td>2019-06-02 23:03:00</td>\n",
       "      <td>MD-AVE</td>\n",
       "      <td>34.65</td>\n",
       "      <td>Turista con enlace</td>\n",
       "      <td>Promo +</td>\n",
       "    </tr>\n",
       "    <tr>\n",
       "      <th>2</th>\n",
       "      <td>2019-04-19 05:37:35</td>\n",
       "      <td>PONFERRADA</td>\n",
       "      <td>MADRID</td>\n",
       "      <td>2019-06-02 17:15:00</td>\n",
       "      <td>2019-06-02 23:10:00</td>\n",
       "      <td>MD-LD</td>\n",
       "      <td>39.95</td>\n",
       "      <td>Turista con enlace</td>\n",
       "      <td>Promo +</td>\n",
       "    </tr>\n",
       "    <tr>\n",
       "      <th>3</th>\n",
       "      <td>2019-04-19 05:37:35</td>\n",
       "      <td>PONFERRADA</td>\n",
       "      <td>MADRID</td>\n",
       "      <td>2019-06-02 17:15:00</td>\n",
       "      <td>2019-06-02 22:14:00</td>\n",
       "      <td>MD-AVE</td>\n",
       "      <td>40.60</td>\n",
       "      <td>Turista con enlace</td>\n",
       "      <td>Promo +</td>\n",
       "    </tr>\n",
       "    <tr>\n",
       "      <th>4</th>\n",
       "      <td>2019-04-19 05:37:35</td>\n",
       "      <td>PONFERRADA</td>\n",
       "      <td>MADRID</td>\n",
       "      <td>2019-06-02 18:55:00</td>\n",
       "      <td>2019-06-02 23:03:00</td>\n",
       "      <td>ALVIA</td>\n",
       "      <td>27.90</td>\n",
       "      <td>Turista</td>\n",
       "      <td>Promo</td>\n",
       "    </tr>\n",
       "  </tbody>\n",
       "</table>\n",
       "</div>"
      ],
      "text/plain": [
       "           insert_date      origin destination           start_date  \\\n",
       "0  2019-04-19 05:37:35  PONFERRADA      MADRID  2019-06-02 15:00:00   \n",
       "1  2019-04-19 05:37:35  PONFERRADA      MADRID  2019-06-02 17:15:00   \n",
       "2  2019-04-19 05:37:35  PONFERRADA      MADRID  2019-06-02 17:15:00   \n",
       "3  2019-04-19 05:37:35  PONFERRADA      MADRID  2019-06-02 17:15:00   \n",
       "4  2019-04-19 05:37:35  PONFERRADA      MADRID  2019-06-02 18:55:00   \n",
       "\n",
       "              end_date train_type  price         train_class      fare  \n",
       "0  2019-06-02 19:42:00     MD-AVE  59.50  Turista con enlace  Flexible  \n",
       "1  2019-06-02 23:03:00     MD-AVE  34.65  Turista con enlace   Promo +  \n",
       "2  2019-06-02 23:10:00      MD-LD  39.95  Turista con enlace   Promo +  \n",
       "3  2019-06-02 22:14:00     MD-AVE  40.60  Turista con enlace   Promo +  \n",
       "4  2019-06-02 23:03:00      ALVIA  27.90             Turista     Promo  "
      ]
     },
     "execution_count": 5,
     "metadata": {},
     "output_type": "execute_result"
    }
   ],
   "source": [
    "#write code here\n",
    "df.drop(columns = df.columns[0], axis =1, inplace = True)\n",
    "df.head()"
   ]
  },
  {
   "cell_type": "markdown",
   "metadata": {},
   "source": [
    "#### **Task 4: Check the number of rows and columns**"
   ]
  },
  {
   "cell_type": "code",
   "execution_count": 6,
   "metadata": {},
   "outputs": [
    {
     "name": "stdout",
     "output_type": "stream",
     "text": [
      "Number of Rows: 215909\n",
      "Number of Columns: 9\n"
     ]
    }
   ],
   "source": [
    "#write code here\n",
    "df.shape\n",
    "print(\"Number of Rows: {}\".format(df.shape[0]))\n",
    "print(\"Number of Columns: {}\".format(df.shape[1]))"
   ]
  },
  {
   "cell_type": "markdown",
   "metadata": {},
   "source": [
    "#### **Task 5: Check data types of all columns**"
   ]
  },
  {
   "cell_type": "code",
   "execution_count": 7,
   "metadata": {},
   "outputs": [
    {
     "data": {
      "text/plain": [
       "insert_date     object\n",
       "origin          object\n",
       "destination     object\n",
       "start_date      object\n",
       "end_date        object\n",
       "train_type      object\n",
       "price          float64\n",
       "train_class     object\n",
       "fare            object\n",
       "dtype: object"
      ]
     },
     "execution_count": 7,
     "metadata": {},
     "output_type": "execute_result"
    }
   ],
   "source": [
    "#write code here\n",
    "df.dtypes"
   ]
  },
  {
   "cell_type": "markdown",
   "metadata": {},
   "source": [
    "#### **Task 6: Check summary statistics**"
   ]
  },
  {
   "cell_type": "code",
   "execution_count": 8,
   "metadata": {},
   "outputs": [
    {
     "data": {
      "text/html": [
       "<div>\n",
       "<style scoped>\n",
       "    .dataframe tbody tr th:only-of-type {\n",
       "        vertical-align: middle;\n",
       "    }\n",
       "\n",
       "    .dataframe tbody tr th {\n",
       "        vertical-align: top;\n",
       "    }\n",
       "\n",
       "    .dataframe thead th {\n",
       "        text-align: right;\n",
       "    }\n",
       "</style>\n",
       "<table border=\"1\" class=\"dataframe\">\n",
       "  <thead>\n",
       "    <tr style=\"text-align: right;\">\n",
       "      <th></th>\n",
       "      <th>price</th>\n",
       "    </tr>\n",
       "  </thead>\n",
       "  <tbody>\n",
       "    <tr>\n",
       "      <th>count</th>\n",
       "      <td>202321.000000</td>\n",
       "    </tr>\n",
       "    <tr>\n",
       "      <th>mean</th>\n",
       "      <td>56.723877</td>\n",
       "    </tr>\n",
       "    <tr>\n",
       "      <th>std</th>\n",
       "      <td>25.531787</td>\n",
       "    </tr>\n",
       "    <tr>\n",
       "      <th>min</th>\n",
       "      <td>16.600000</td>\n",
       "    </tr>\n",
       "    <tr>\n",
       "      <th>25%</th>\n",
       "      <td>28.350000</td>\n",
       "    </tr>\n",
       "    <tr>\n",
       "      <th>50%</th>\n",
       "      <td>53.400000</td>\n",
       "    </tr>\n",
       "    <tr>\n",
       "      <th>75%</th>\n",
       "      <td>76.300000</td>\n",
       "    </tr>\n",
       "    <tr>\n",
       "      <th>max</th>\n",
       "      <td>206.800000</td>\n",
       "    </tr>\n",
       "  </tbody>\n",
       "</table>\n",
       "</div>"
      ],
      "text/plain": [
       "               price\n",
       "count  202321.000000\n",
       "mean       56.723877\n",
       "std        25.531787\n",
       "min        16.600000\n",
       "25%        28.350000\n",
       "50%        53.400000\n",
       "75%        76.300000\n",
       "max       206.800000"
      ]
     },
     "execution_count": 8,
     "metadata": {},
     "output_type": "execute_result"
    }
   ],
   "source": [
    "#write code here\n",
    "df.describe()"
   ]
  },
  {
   "cell_type": "markdown",
   "metadata": {},
   "source": [
    "#### **Task 7: Check summary statistics of all columns, including object dataypes**"
   ]
  },
  {
   "cell_type": "code",
   "execution_count": 9,
   "metadata": {},
   "outputs": [
    {
     "data": {
      "text/html": [
       "<div>\n",
       "<style scoped>\n",
       "    .dataframe tbody tr th:only-of-type {\n",
       "        vertical-align: middle;\n",
       "    }\n",
       "\n",
       "    .dataframe tbody tr th {\n",
       "        vertical-align: top;\n",
       "    }\n",
       "\n",
       "    .dataframe thead th {\n",
       "        text-align: right;\n",
       "    }\n",
       "</style>\n",
       "<table border=\"1\" class=\"dataframe\">\n",
       "  <thead>\n",
       "    <tr style=\"text-align: right;\">\n",
       "      <th></th>\n",
       "      <th>insert_date</th>\n",
       "      <th>origin</th>\n",
       "      <th>destination</th>\n",
       "      <th>start_date</th>\n",
       "      <th>end_date</th>\n",
       "      <th>train_type</th>\n",
       "      <th>price</th>\n",
       "      <th>train_class</th>\n",
       "      <th>fare</th>\n",
       "    </tr>\n",
       "  </thead>\n",
       "  <tbody>\n",
       "    <tr>\n",
       "      <th>count</th>\n",
       "      <td>215909</td>\n",
       "      <td>215909</td>\n",
       "      <td>215909</td>\n",
       "      <td>215909</td>\n",
       "      <td>215909</td>\n",
       "      <td>215909</td>\n",
       "      <td>202321.000000</td>\n",
       "      <td>215266</td>\n",
       "      <td>215266</td>\n",
       "    </tr>\n",
       "    <tr>\n",
       "      <th>unique</th>\n",
       "      <td>30543</td>\n",
       "      <td>5</td>\n",
       "      <td>5</td>\n",
       "      <td>2231</td>\n",
       "      <td>2870</td>\n",
       "      <td>16</td>\n",
       "      <td>NaN</td>\n",
       "      <td>5</td>\n",
       "      <td>5</td>\n",
       "    </tr>\n",
       "    <tr>\n",
       "      <th>top</th>\n",
       "      <td>2019-05-09 15:02:02</td>\n",
       "      <td>MADRID</td>\n",
       "      <td>MADRID</td>\n",
       "      <td>2019-06-02 17:30:00</td>\n",
       "      <td>2019-06-02 23:03:00</td>\n",
       "      <td>AVE</td>\n",
       "      <td>NaN</td>\n",
       "      <td>Turista</td>\n",
       "      <td>Promo</td>\n",
       "    </tr>\n",
       "    <tr>\n",
       "      <th>freq</th>\n",
       "      <td>90</td>\n",
       "      <td>110440</td>\n",
       "      <td>105469</td>\n",
       "      <td>2089</td>\n",
       "      <td>1278</td>\n",
       "      <td>126577</td>\n",
       "      <td>NaN</td>\n",
       "      <td>164016</td>\n",
       "      <td>132065</td>\n",
       "    </tr>\n",
       "    <tr>\n",
       "      <th>mean</th>\n",
       "      <td>NaN</td>\n",
       "      <td>NaN</td>\n",
       "      <td>NaN</td>\n",
       "      <td>NaN</td>\n",
       "      <td>NaN</td>\n",
       "      <td>NaN</td>\n",
       "      <td>56.723877</td>\n",
       "      <td>NaN</td>\n",
       "      <td>NaN</td>\n",
       "    </tr>\n",
       "    <tr>\n",
       "      <th>std</th>\n",
       "      <td>NaN</td>\n",
       "      <td>NaN</td>\n",
       "      <td>NaN</td>\n",
       "      <td>NaN</td>\n",
       "      <td>NaN</td>\n",
       "      <td>NaN</td>\n",
       "      <td>25.531787</td>\n",
       "      <td>NaN</td>\n",
       "      <td>NaN</td>\n",
       "    </tr>\n",
       "    <tr>\n",
       "      <th>min</th>\n",
       "      <td>NaN</td>\n",
       "      <td>NaN</td>\n",
       "      <td>NaN</td>\n",
       "      <td>NaN</td>\n",
       "      <td>NaN</td>\n",
       "      <td>NaN</td>\n",
       "      <td>16.600000</td>\n",
       "      <td>NaN</td>\n",
       "      <td>NaN</td>\n",
       "    </tr>\n",
       "    <tr>\n",
       "      <th>25%</th>\n",
       "      <td>NaN</td>\n",
       "      <td>NaN</td>\n",
       "      <td>NaN</td>\n",
       "      <td>NaN</td>\n",
       "      <td>NaN</td>\n",
       "      <td>NaN</td>\n",
       "      <td>28.350000</td>\n",
       "      <td>NaN</td>\n",
       "      <td>NaN</td>\n",
       "    </tr>\n",
       "    <tr>\n",
       "      <th>50%</th>\n",
       "      <td>NaN</td>\n",
       "      <td>NaN</td>\n",
       "      <td>NaN</td>\n",
       "      <td>NaN</td>\n",
       "      <td>NaN</td>\n",
       "      <td>NaN</td>\n",
       "      <td>53.400000</td>\n",
       "      <td>NaN</td>\n",
       "      <td>NaN</td>\n",
       "    </tr>\n",
       "    <tr>\n",
       "      <th>75%</th>\n",
       "      <td>NaN</td>\n",
       "      <td>NaN</td>\n",
       "      <td>NaN</td>\n",
       "      <td>NaN</td>\n",
       "      <td>NaN</td>\n",
       "      <td>NaN</td>\n",
       "      <td>76.300000</td>\n",
       "      <td>NaN</td>\n",
       "      <td>NaN</td>\n",
       "    </tr>\n",
       "    <tr>\n",
       "      <th>max</th>\n",
       "      <td>NaN</td>\n",
       "      <td>NaN</td>\n",
       "      <td>NaN</td>\n",
       "      <td>NaN</td>\n",
       "      <td>NaN</td>\n",
       "      <td>NaN</td>\n",
       "      <td>206.800000</td>\n",
       "      <td>NaN</td>\n",
       "      <td>NaN</td>\n",
       "    </tr>\n",
       "  </tbody>\n",
       "</table>\n",
       "</div>"
      ],
      "text/plain": [
       "                insert_date  origin destination           start_date  \\\n",
       "count                215909  215909      215909               215909   \n",
       "unique                30543       5           5                 2231   \n",
       "top     2019-05-09 15:02:02  MADRID      MADRID  2019-06-02 17:30:00   \n",
       "freq                     90  110440      105469                 2089   \n",
       "mean                    NaN     NaN         NaN                  NaN   \n",
       "std                     NaN     NaN         NaN                  NaN   \n",
       "min                     NaN     NaN         NaN                  NaN   \n",
       "25%                     NaN     NaN         NaN                  NaN   \n",
       "50%                     NaN     NaN         NaN                  NaN   \n",
       "75%                     NaN     NaN         NaN                  NaN   \n",
       "max                     NaN     NaN         NaN                  NaN   \n",
       "\n",
       "                   end_date train_type          price train_class    fare  \n",
       "count                215909     215909  202321.000000      215266  215266  \n",
       "unique                 2870         16            NaN           5       5  \n",
       "top     2019-06-02 23:03:00        AVE            NaN     Turista   Promo  \n",
       "freq                   1278     126577            NaN      164016  132065  \n",
       "mean                    NaN        NaN      56.723877         NaN     NaN  \n",
       "std                     NaN        NaN      25.531787         NaN     NaN  \n",
       "min                     NaN        NaN      16.600000         NaN     NaN  \n",
       "25%                     NaN        NaN      28.350000         NaN     NaN  \n",
       "50%                     NaN        NaN      53.400000         NaN     NaN  \n",
       "75%                     NaN        NaN      76.300000         NaN     NaN  \n",
       "max                     NaN        NaN     206.800000         NaN     NaN  "
      ]
     },
     "execution_count": 9,
     "metadata": {},
     "output_type": "execute_result"
    }
   ],
   "source": [
    "df.describe(include='all')"
   ]
  },
  {
   "cell_type": "markdown",
   "metadata": {},
   "source": [
    "**Question: Explain the summary statistics for the above data set**"
   ]
  },
  {
   "cell_type": "markdown",
   "metadata": {},
   "source": [
    "**Answer:**\n",
    "\n",
    "    - There are 5 unique origin and destination as well as train_class and fare types.\n",
    "    - There are 30543 unique insert_dates with 2231 unique start_date and 2870 end_date.\n",
    "    - 16 different train_type\n",
    "    - Most of the trains originated from MADRID and most have destination of MADRID.\n",
    "    - Mostly Train_type were AVE and train_class were Turista and fare was Promo.\n",
    "    - 110440 tickets with origin MADRID and 105469 tickets with destination MADRID.\n",
    "    - 126577 tickets have train_type AVE\n",
    "    - 164016 Tickets of train_class Turista\n",
    "    - 132065 tickets with Promo fare\n",
    "    - mean price is 56.723877\n",
    "    - standard dev in price is 25.531787\n",
    "    - min price is 16.6\n",
    "    - median price 53.4\n",
    "    - max price is 206.8\n",
    "    - As mean is almost equal to median so symmetric\n",
    "    "
   ]
  },
  {
   "cell_type": "markdown",
   "metadata": {},
   "source": [
    "#### **Task 8: Check null values in dataset**"
   ]
  },
  {
   "cell_type": "code",
   "execution_count": 10,
   "metadata": {},
   "outputs": [
    {
     "data": {
      "text/plain": [
       "insert_date        0\n",
       "origin             0\n",
       "destination        0\n",
       "start_date         0\n",
       "end_date           0\n",
       "train_type         0\n",
       "price          13588\n",
       "train_class      643\n",
       "fare             643\n",
       "dtype: int64"
      ]
     },
     "execution_count": 10,
     "metadata": {},
     "output_type": "execute_result"
    }
   ],
   "source": [
    "#write code here\n",
    "df.isnull().sum()"
   ]
  },
  {
   "cell_type": "markdown",
   "metadata": {},
   "source": [
    "#### **Task 9: Fill the Null values in the 'price' column.**<br>\n",
    "*Hint: Take mean*"
   ]
  },
  {
   "cell_type": "code",
   "execution_count": 11,
   "metadata": {},
   "outputs": [
    {
     "data": {
      "text/plain": [
       "insert_date      0\n",
       "origin           0\n",
       "destination      0\n",
       "start_date       0\n",
       "end_date         0\n",
       "train_type       0\n",
       "price            0\n",
       "train_class    643\n",
       "fare           643\n",
       "dtype: int64"
      ]
     },
     "execution_count": 11,
     "metadata": {},
     "output_type": "execute_result"
    }
   ],
   "source": [
    "#write code here\n",
    "mean_price= df['price'].mean()\n",
    "df['price'].replace(to_replace = np.nan, value = mean_price, inplace= True)\n",
    "df.isnull().sum()"
   ]
  },
  {
   "cell_type": "markdown",
   "metadata": {},
   "source": [
    "#### **Task 10: Drop the rows containing Null values in the attributes train_class and fare**"
   ]
  },
  {
   "cell_type": "code",
   "execution_count": 12,
   "metadata": {},
   "outputs": [
    {
     "data": {
      "text/plain": [
       "Int64Index([  6606,   6826,   7244,   7524,   7591,   8164,   8481,   8512,\n",
       "              8877,   9146,\n",
       "            ...\n",
       "            204428, 204685, 205068, 205445, 205673, 206034, 206353, 206554,\n",
       "            206895, 207073],\n",
       "           dtype='int64', length=643)"
      ]
     },
     "execution_count": 12,
     "metadata": {},
     "output_type": "execute_result"
    }
   ],
   "source": [
    "df[df['train_class'].isnull()].index"
   ]
  },
  {
   "cell_type": "code",
   "execution_count": 13,
   "metadata": {},
   "outputs": [],
   "source": [
    "#write code here\n",
    "df.drop(index = df[df['train_class'].isnull()].index, inplace= True)\n",
    "df.drop(index = df[df['fare'].isnull()].index, inplace= True)"
   ]
  },
  {
   "cell_type": "markdown",
   "metadata": {},
   "source": [
    "#### **Task 11: Drop 'insert_date'**"
   ]
  },
  {
   "cell_type": "code",
   "execution_count": 14,
   "metadata": {},
   "outputs": [],
   "source": [
    "#write code here\n",
    "df.drop(columns = 'insert_date',inplace=True)"
   ]
  },
  {
   "cell_type": "markdown",
   "metadata": {},
   "source": [
    "**Check null values again in dataset**"
   ]
  },
  {
   "cell_type": "code",
   "execution_count": 15,
   "metadata": {},
   "outputs": [
    {
     "data": {
      "text/plain": [
       "origin         0\n",
       "destination    0\n",
       "start_date     0\n",
       "end_date       0\n",
       "train_type     0\n",
       "price          0\n",
       "train_class    0\n",
       "fare           0\n",
       "dtype: int64"
      ]
     },
     "execution_count": 15,
     "metadata": {},
     "output_type": "execute_result"
    }
   ],
   "source": [
    "#write code here\n",
    "df.isnull().sum()"
   ]
  },
  {
   "cell_type": "markdown",
   "metadata": {},
   "source": [
    "#### **Task 12: Plot number of people boarding from different stations**\n"
   ]
  },
  {
   "cell_type": "code",
   "execution_count": 16,
   "metadata": {},
   "outputs": [
    {
     "data": {
      "image/png": "[encoded data removed]",
      "text/plain": [
       "<Figure size 432x288 with 1 Axes>"
      ]
     },
     "metadata": {},
     "output_type": "display_data"
    }
   ],
   "source": [
    "#write code here\n",
    "sns.countplot(x='origin', data=df);"
   ]
  },
  {
   "cell_type": "markdown",
   "metadata": {},
   "source": [
    "**Question: What insights do you get from the above plot?**"
   ]
  },
  {
   "cell_type": "markdown",
   "metadata": {},
   "source": [
    "**Answer:**\n",
    "- Most of the people took train from MADRID, then BARCELONA then VALENCIA then SEVILLA\n",
    "- very few from PONFERRADA"
   ]
  },
  {
   "cell_type": "markdown",
   "metadata": {},
   "source": [
    "#### **Task 13: Plot number of people for the destination stations**\n"
   ]
  },
  {
   "cell_type": "code",
   "execution_count": 17,
   "metadata": {},
   "outputs": [
    {
     "data": {
      "image/png": "[encoded data removed]",
      "text/plain": [
       "<Figure size 432x288 with 1 Axes>"
      ]
     },
     "metadata": {},
     "output_type": "display_data"
    }
   ],
   "source": [
    "#write code here\n",
    "sns.countplot(x='destination', data=df);"
   ]
  },
  {
   "cell_type": "markdown",
   "metadata": {},
   "source": [
    "**Question: What insights do you get from the above graph?**"
   ]
  },
  {
   "cell_type": "markdown",
   "metadata": {},
   "source": [
    "**Answer:**\n",
    "- Most of the people had destination MADRID, then BARCELONA then VALENCIA then SEVILLA\n",
    "- very few went to PONFERRADA"
   ]
  },
  {
   "cell_type": "markdown",
   "metadata": {},
   "source": [
    "#### **Task 14: Plot different types of train that runs in Spain**\n"
   ]
  },
  {
   "cell_type": "code",
   "execution_count": 18,
   "metadata": {},
   "outputs": [
    {
     "data": {
      "image/png": "[encoded data removed]",
      "text/plain": [
       "<Figure size 1080x432 with 1 Axes>"
      ]
     },
     "metadata": {},
     "output_type": "display_data"
    }
   ],
   "source": [
    "#write code here\n",
    "plt.figure(figsize = (15,6))\n",
    "sns.countplot(x='train_type', data=df);"
   ]
  },
  {
   "cell_type": "markdown",
   "metadata": {},
   "source": [
    "**Question: Which train runs the maximum in number as compared to other train types?**"
   ]
  },
  {
   "cell_type": "markdown",
   "metadata": {},
   "source": [
    "**Answer:** \n",
    "AVE runs maximum (as compared with other train types)"
   ]
  },
  {
   "cell_type": "markdown",
   "metadata": {},
   "source": [
    "#### **Task 15: Plot number of trains of different class**\n"
   ]
  },
  {
   "cell_type": "code",
   "execution_count": 19,
   "metadata": {},
   "outputs": [
    {
     "data": {
      "image/png": "[encoded data removed]",
      "text/plain": [
       "<Figure size 432x288 with 1 Axes>"
      ]
     },
     "metadata": {},
     "output_type": "display_data"
    }
   ],
   "source": [
    "#write code here\n",
    "sns.countplot(x='train_class', data=df);"
   ]
  },
  {
   "cell_type": "markdown",
   "metadata": {},
   "source": [
    "**Question: Which the most common train class for traveling among people in general?**"
   ]
  },
  {
   "cell_type": "markdown",
   "metadata": {},
   "source": [
    "**Answer:** \n",
    "TURISTA"
   ]
  },
  {
   "cell_type": "markdown",
   "metadata": {},
   "source": [
    "#### **Task 16: Plot number of tickets bought from each category**\n"
   ]
  },
  {
   "cell_type": "code",
   "execution_count": 20,
   "metadata": {},
   "outputs": [
    {
     "data": {
      "image/png": "[encoded data removed]",
      "text/plain": [
       "<Figure size 432x288 with 1 Axes>"
      ]
     },
     "metadata": {},
     "output_type": "display_data"
    }
   ],
   "source": [
    "#write code here\n",
    "sns.countplot(x='fare', data=df);"
   ]
  },
  {
   "cell_type": "markdown",
   "metadata": {},
   "source": [
    "**Question: Which the most common tickets are bought?**"
   ]
  },
  {
   "cell_type": "markdown",
   "metadata": {},
   "source": [
    "**Answer:** PROMO"
   ]
  },
  {
   "cell_type": "markdown",
   "metadata": {},
   "source": [
    "#### **Task 17: Plot distribution of the ticket prices**"
   ]
  },
  {
   "cell_type": "code",
   "execution_count": 21,
   "metadata": {},
   "outputs": [
    {
     "data": {
      "text/plain": [
       "(array([3.4720e+03, 6.0827e+04, 1.7750e+04, 2.2267e+04, 2.9805e+04,\n",
       "        1.8120e+04, 2.1914e+04, 2.2951e+04, 1.2820e+04, 3.5880e+03,\n",
       "        3.8800e+02, 1.2980e+03, 0.0000e+00, 0.0000e+00, 0.0000e+00,\n",
       "        0.0000e+00, 2.2000e+01, 0.0000e+00, 0.0000e+00, 4.4000e+01]),\n",
       " array([ 16.6 ,  26.11,  35.62,  45.13,  54.64,  64.15,  73.66,  83.17,\n",
       "         92.68, 102.19, 111.7 , 121.21, 130.72, 140.23, 149.74, 159.25,\n",
       "        168.76, 178.27, 187.78, 197.29, 206.8 ]),\n",
       " <a list of 20 Patch objects>)"
      ]
     },
     "execution_count": 21,
     "metadata": {},
     "output_type": "execute_result"
    },
    {
     "data": {
      "image/png": "[encoded data removed]",
      "text/plain": [
       "<Figure size 1080x432 with 1 Axes>"
      ]
     },
     "metadata": {},
     "output_type": "display_data"
    }
   ],
   "source": [
    "#write code here\n",
    "plt.figure(figsize = (15,6))\n",
    "plt.hist(df.price,bins=20)"
   ]
  },
  {
   "cell_type": "markdown",
   "metadata": {},
   "source": [
    "**Question: What readings can you get from the above plot?**"
   ]
  },
  {
   "cell_type": "markdown",
   "metadata": {},
   "source": [
    "**Answer:**   Most of the tickets were priced between 25 to 35       "
   ]
  },
  {
   "cell_type": "markdown",
   "metadata": {},
   "source": [
    "###### **Task 18: Show train_class vs price through boxplot**"
   ]
  },
  {
   "cell_type": "code",
   "execution_count": 22,
   "metadata": {},
   "outputs": [
    {
     "data": {
      "text/plain": [
       "<matplotlib.axes._subplots.AxesSubplot at 0x1cc00e8cd08>"
      ]
     },
     "execution_count": 22,
     "metadata": {},
     "output_type": "execute_result"
    },
    {
     "data": {
      "image/png": "[encoded data removed]",
      "text/plain": [
       "<Figure size 1080x432 with 1 Axes>"
      ]
     },
     "metadata": {},
     "output_type": "display_data"
    }
   ],
   "source": [
    "#write code here\n",
    "plt.figure(figsize = (15,6))\n",
    "sns.boxplot(x= df.train_class, y= df.price)"
   ]
  },
  {
   "cell_type": "markdown",
   "metadata": {},
   "source": [
    "**Question: What pricing trends can you find out by looking at the plot above?**"
   ]
  },
  {
   "cell_type": "markdown",
   "metadata": {},
   "source": [
    "**Answer:**\n",
    "- **Turista con enlace** is left skewed with median slightly above 50. Mostly between 35 and 55.\n",
    "- **Turista** is right skewed with median slightly below 50. Mostly between 30 and 75.\n",
    "- **Preferente** is Symmetric with median near 70. Mostly between 55 and 80.\n",
    "- **Turista Plus** is left skewed with median near 80. Mostly between 60 to 85.\n",
    "- **Cama Turista** has very few samples near 75."
   ]
  },
  {
   "cell_type": "markdown",
   "metadata": {},
   "source": [
    "#### **Task 19: Show train_type vs price through boxplot**\n"
   ]
  },
  {
   "cell_type": "code",
   "execution_count": 23,
   "metadata": {},
   "outputs": [
    {
     "data": {
      "text/plain": [
       "<matplotlib.axes._subplots.AxesSubplot at 0x1cc0110b3c8>"
      ]
     },
     "execution_count": 23,
     "metadata": {},
     "output_type": "execute_result"
    },
    {
     "data": {
      "image/png": "[encoded data removed]",
      "text/plain": [
       "<Figure size 1080x432 with 1 Axes>"
      ]
     },
     "metadata": {},
     "output_type": "display_data"
    }
   ],
   "source": [
    "#write code here\n",
    "plt.figure(figsize = (15,6))\n",
    "sns.boxplot(x= df.train_type, y= df.price)"
   ]
  },
  {
   "cell_type": "markdown",
   "metadata": {},
   "source": [
    "**Question: Which type of trains cost more as compared to others?**"
   ]
  },
  {
   "cell_type": "markdown",
   "metadata": {},
   "source": [
    "**Answer:** AVE and AVE-TGV cost more than others\n",
    "\n"
   ]
  },
  {
   "cell_type": "markdown",
   "metadata": {},
   "source": [
    "## Feature Engineering\n"
   ]
  },
  {
   "cell_type": "code",
   "execution_count": 24,
   "metadata": {},
   "outputs": [],
   "source": [
    "df = df.reset_index()"
   ]
  },
  {
   "cell_type": "markdown",
   "metadata": {},
   "source": [
    "**Finding the travel time between the place of origin and destination**<br>\n",
    "We need to find out the travel time for each entry which can be obtained from the 'start_date' and 'end_date' column. Also if you see, these columns are in object type therefore datetimeFormat should be defined to perform the necessary operation of getting the required time."
   ]
  },
  {
   "cell_type": "markdown",
   "metadata": {},
   "source": [
    "**Import datetime library**"
   ]
  },
  {
   "cell_type": "code",
   "execution_count": 25,
   "metadata": {},
   "outputs": [],
   "source": [
    "#write code here\n",
    "import datetime"
   ]
  },
  {
   "cell_type": "code",
   "execution_count": 26,
   "metadata": {},
   "outputs": [],
   "source": [
    "datetimeFormat = '%Y-%m-%d %H:%M:%S'\n",
    "def fun(a,b):\n",
    "    diff = datetime.datetime.strptime(b, datetimeFormat)- datetime.datetime.strptime(a, datetimeFormat)\n",
    "    return(diff.seconds/3600.0)                  \n",
    "    "
   ]
  },
  {
   "cell_type": "code",
   "execution_count": 27,
   "metadata": {},
   "outputs": [
    {
     "data": {
      "text/html": [
       "<div>\n",
       "<style scoped>\n",
       "    .dataframe tbody tr th:only-of-type {\n",
       "        vertical-align: middle;\n",
       "    }\n",
       "\n",
       "    .dataframe tbody tr th {\n",
       "        vertical-align: top;\n",
       "    }\n",
       "\n",
       "    .dataframe thead th {\n",
       "        text-align: right;\n",
       "    }\n",
       "</style>\n",
       "<table border=\"1\" class=\"dataframe\">\n",
       "  <thead>\n",
       "    <tr style=\"text-align: right;\">\n",
       "      <th></th>\n",
       "      <th>index</th>\n",
       "      <th>origin</th>\n",
       "      <th>destination</th>\n",
       "      <th>start_date</th>\n",
       "      <th>end_date</th>\n",
       "      <th>train_type</th>\n",
       "      <th>price</th>\n",
       "      <th>train_class</th>\n",
       "      <th>fare</th>\n",
       "      <th>travel_time_in_hrs</th>\n",
       "    </tr>\n",
       "  </thead>\n",
       "  <tbody>\n",
       "    <tr>\n",
       "      <th>0</th>\n",
       "      <td>0</td>\n",
       "      <td>PONFERRADA</td>\n",
       "      <td>MADRID</td>\n",
       "      <td>2019-06-02 15:00:00</td>\n",
       "      <td>2019-06-02 19:42:00</td>\n",
       "      <td>MD-AVE</td>\n",
       "      <td>59.50</td>\n",
       "      <td>Turista con enlace</td>\n",
       "      <td>Flexible</td>\n",
       "      <td>4.700000</td>\n",
       "    </tr>\n",
       "    <tr>\n",
       "      <th>1</th>\n",
       "      <td>1</td>\n",
       "      <td>PONFERRADA</td>\n",
       "      <td>MADRID</td>\n",
       "      <td>2019-06-02 17:15:00</td>\n",
       "      <td>2019-06-02 23:03:00</td>\n",
       "      <td>MD-AVE</td>\n",
       "      <td>34.65</td>\n",
       "      <td>Turista con enlace</td>\n",
       "      <td>Promo +</td>\n",
       "      <td>5.800000</td>\n",
       "    </tr>\n",
       "    <tr>\n",
       "      <th>2</th>\n",
       "      <td>2</td>\n",
       "      <td>PONFERRADA</td>\n",
       "      <td>MADRID</td>\n",
       "      <td>2019-06-02 17:15:00</td>\n",
       "      <td>2019-06-02 23:10:00</td>\n",
       "      <td>MD-LD</td>\n",
       "      <td>39.95</td>\n",
       "      <td>Turista con enlace</td>\n",
       "      <td>Promo +</td>\n",
       "      <td>5.916667</td>\n",
       "    </tr>\n",
       "    <tr>\n",
       "      <th>3</th>\n",
       "      <td>3</td>\n",
       "      <td>PONFERRADA</td>\n",
       "      <td>MADRID</td>\n",
       "      <td>2019-06-02 17:15:00</td>\n",
       "      <td>2019-06-02 22:14:00</td>\n",
       "      <td>MD-AVE</td>\n",
       "      <td>40.60</td>\n",
       "      <td>Turista con enlace</td>\n",
       "      <td>Promo +</td>\n",
       "      <td>4.983333</td>\n",
       "    </tr>\n",
       "    <tr>\n",
       "      <th>4</th>\n",
       "      <td>4</td>\n",
       "      <td>PONFERRADA</td>\n",
       "      <td>MADRID</td>\n",
       "      <td>2019-06-02 18:55:00</td>\n",
       "      <td>2019-06-02 23:03:00</td>\n",
       "      <td>ALVIA</td>\n",
       "      <td>27.90</td>\n",
       "      <td>Turista</td>\n",
       "      <td>Promo</td>\n",
       "      <td>4.133333</td>\n",
       "    </tr>\n",
       "  </tbody>\n",
       "</table>\n",
       "</div>"
      ],
      "text/plain": [
       "   index      origin destination           start_date             end_date  \\\n",
       "0      0  PONFERRADA      MADRID  2019-06-02 15:00:00  2019-06-02 19:42:00   \n",
       "1      1  PONFERRADA      MADRID  2019-06-02 17:15:00  2019-06-02 23:03:00   \n",
       "2      2  PONFERRADA      MADRID  2019-06-02 17:15:00  2019-06-02 23:10:00   \n",
       "3      3  PONFERRADA      MADRID  2019-06-02 17:15:00  2019-06-02 22:14:00   \n",
       "4      4  PONFERRADA      MADRID  2019-06-02 18:55:00  2019-06-02 23:03:00   \n",
       "\n",
       "  train_type  price         train_class      fare  travel_time_in_hrs  \n",
       "0     MD-AVE  59.50  Turista con enlace  Flexible            4.700000  \n",
       "1     MD-AVE  34.65  Turista con enlace   Promo +            5.800000  \n",
       "2      MD-LD  39.95  Turista con enlace   Promo +            5.916667  \n",
       "3     MD-AVE  40.60  Turista con enlace   Promo +            4.983333  \n",
       "4      ALVIA  27.90             Turista     Promo            4.133333  "
      ]
     },
     "execution_count": 27,
     "metadata": {},
     "output_type": "execute_result"
    }
   ],
   "source": [
    "df['travel_time_in_hrs'] = df.apply(lambda x:fun(x['start_date'],x['end_date']),axis=1) \n",
    "df.head()"
   ]
  },
  {
   "cell_type": "markdown",
   "metadata": {},
   "source": [
    "#### **Task 20: Remove redundant features**\n"
   ]
  },
  {
   "cell_type": "markdown",
   "metadata": {},
   "source": [
    "**You need to remove features that are giving the related values as  'travel_time_in_hrs'**<br>\n",
    "*Hint: Look for date related columns*"
   ]
  },
  {
   "cell_type": "code",
   "execution_count": 28,
   "metadata": {
    "scrolled": true
   },
   "outputs": [
    {
     "data": {
      "text/html": [
       "<div>\n",
       "<style scoped>\n",
       "    .dataframe tbody tr th:only-of-type {\n",
       "        vertical-align: middle;\n",
       "    }\n",
       "\n",
       "    .dataframe tbody tr th {\n",
       "        vertical-align: top;\n",
       "    }\n",
       "\n",
       "    .dataframe thead th {\n",
       "        text-align: right;\n",
       "    }\n",
       "</style>\n",
       "<table border=\"1\" class=\"dataframe\">\n",
       "  <thead>\n",
       "    <tr style=\"text-align: right;\">\n",
       "      <th></th>\n",
       "      <th>index</th>\n",
       "      <th>origin</th>\n",
       "      <th>destination</th>\n",
       "      <th>train_type</th>\n",
       "      <th>price</th>\n",
       "      <th>train_class</th>\n",
       "      <th>fare</th>\n",
       "      <th>travel_time_in_hrs</th>\n",
       "    </tr>\n",
       "  </thead>\n",
       "  <tbody>\n",
       "    <tr>\n",
       "      <th>0</th>\n",
       "      <td>0</td>\n",
       "      <td>PONFERRADA</td>\n",
       "      <td>MADRID</td>\n",
       "      <td>MD-AVE</td>\n",
       "      <td>59.50</td>\n",
       "      <td>Turista con enlace</td>\n",
       "      <td>Flexible</td>\n",
       "      <td>4.700000</td>\n",
       "    </tr>\n",
       "    <tr>\n",
       "      <th>1</th>\n",
       "      <td>1</td>\n",
       "      <td>PONFERRADA</td>\n",
       "      <td>MADRID</td>\n",
       "      <td>MD-AVE</td>\n",
       "      <td>34.65</td>\n",
       "      <td>Turista con enlace</td>\n",
       "      <td>Promo +</td>\n",
       "      <td>5.800000</td>\n",
       "    </tr>\n",
       "    <tr>\n",
       "      <th>2</th>\n",
       "      <td>2</td>\n",
       "      <td>PONFERRADA</td>\n",
       "      <td>MADRID</td>\n",
       "      <td>MD-LD</td>\n",
       "      <td>39.95</td>\n",
       "      <td>Turista con enlace</td>\n",
       "      <td>Promo +</td>\n",
       "      <td>5.916667</td>\n",
       "    </tr>\n",
       "    <tr>\n",
       "      <th>3</th>\n",
       "      <td>3</td>\n",
       "      <td>PONFERRADA</td>\n",
       "      <td>MADRID</td>\n",
       "      <td>MD-AVE</td>\n",
       "      <td>40.60</td>\n",
       "      <td>Turista con enlace</td>\n",
       "      <td>Promo +</td>\n",
       "      <td>4.983333</td>\n",
       "    </tr>\n",
       "    <tr>\n",
       "      <th>4</th>\n",
       "      <td>4</td>\n",
       "      <td>PONFERRADA</td>\n",
       "      <td>MADRID</td>\n",
       "      <td>ALVIA</td>\n",
       "      <td>27.90</td>\n",
       "      <td>Turista</td>\n",
       "      <td>Promo</td>\n",
       "      <td>4.133333</td>\n",
       "    </tr>\n",
       "  </tbody>\n",
       "</table>\n",
       "</div>"
      ],
      "text/plain": [
       "   index      origin destination train_type  price         train_class  \\\n",
       "0      0  PONFERRADA      MADRID     MD-AVE  59.50  Turista con enlace   \n",
       "1      1  PONFERRADA      MADRID     MD-AVE  34.65  Turista con enlace   \n",
       "2      2  PONFERRADA      MADRID      MD-LD  39.95  Turista con enlace   \n",
       "3      3  PONFERRADA      MADRID     MD-AVE  40.60  Turista con enlace   \n",
       "4      4  PONFERRADA      MADRID      ALVIA  27.90             Turista   \n",
       "\n",
       "       fare  travel_time_in_hrs  \n",
       "0  Flexible            4.700000  \n",
       "1   Promo +            5.800000  \n",
       "2   Promo +            5.916667  \n",
       "3   Promo +            4.983333  \n",
       "4     Promo            4.133333  "
      ]
     },
     "execution_count": 28,
     "metadata": {},
     "output_type": "execute_result"
    }
   ],
   "source": [
    "#write code here\n",
    "df.drop(axis=1, columns= ['start_date','end_date'], inplace=True)\n",
    "df.head()"
   ]
  },
  {
   "cell_type": "markdown",
   "metadata": {},
   "source": [
    "We now need to find out the pricing from 'MADRID' to other destinations. We also need to find out time which each train requires for travelling. "
   ]
  },
  {
   "cell_type": "markdown",
   "metadata": {},
   "source": [
    "## **Travelling from MADRID to SEVILLA**"
   ]
  },
  {
   "cell_type": "markdown",
   "metadata": {},
   "source": [
    "#### Task 21: Findout people travelling from MADRID to SEVILLA"
   ]
  },
  {
   "cell_type": "code",
   "execution_count": 29,
   "metadata": {
    "scrolled": true
   },
   "outputs": [
    {
     "data": {
      "text/html": [
       "<div>\n",
       "<style scoped>\n",
       "    .dataframe tbody tr th:only-of-type {\n",
       "        vertical-align: middle;\n",
       "    }\n",
       "\n",
       "    .dataframe tbody tr th {\n",
       "        vertical-align: top;\n",
       "    }\n",
       "\n",
       "    .dataframe thead th {\n",
       "        text-align: right;\n",
       "    }\n",
       "</style>\n",
       "<table border=\"1\" class=\"dataframe\">\n",
       "  <thead>\n",
       "    <tr style=\"text-align: right;\">\n",
       "      <th></th>\n",
       "      <th>index</th>\n",
       "      <th>origin</th>\n",
       "      <th>destination</th>\n",
       "      <th>train_type</th>\n",
       "      <th>price</th>\n",
       "      <th>train_class</th>\n",
       "      <th>fare</th>\n",
       "      <th>travel_time_in_hrs</th>\n",
       "    </tr>\n",
       "  </thead>\n",
       "  <tbody>\n",
       "    <tr>\n",
       "      <th>364</th>\n",
       "      <td>364</td>\n",
       "      <td>MADRID</td>\n",
       "      <td>SEVILLA</td>\n",
       "      <td>AV City</td>\n",
       "      <td>49.150000</td>\n",
       "      <td>Turista</td>\n",
       "      <td>Promo</td>\n",
       "      <td>2.916667</td>\n",
       "    </tr>\n",
       "    <tr>\n",
       "      <th>365</th>\n",
       "      <td>365</td>\n",
       "      <td>MADRID</td>\n",
       "      <td>SEVILLA</td>\n",
       "      <td>ALVIA</td>\n",
       "      <td>56.723877</td>\n",
       "      <td>Preferente</td>\n",
       "      <td>Promo</td>\n",
       "      <td>2.733333</td>\n",
       "    </tr>\n",
       "    <tr>\n",
       "      <th>366</th>\n",
       "      <td>366</td>\n",
       "      <td>MADRID</td>\n",
       "      <td>SEVILLA</td>\n",
       "      <td>AVE</td>\n",
       "      <td>69.400000</td>\n",
       "      <td>Preferente</td>\n",
       "      <td>Promo</td>\n",
       "      <td>2.633333</td>\n",
       "    </tr>\n",
       "    <tr>\n",
       "      <th>367</th>\n",
       "      <td>367</td>\n",
       "      <td>MADRID</td>\n",
       "      <td>SEVILLA</td>\n",
       "      <td>AVE</td>\n",
       "      <td>76.300000</td>\n",
       "      <td>Turista</td>\n",
       "      <td>Flexible</td>\n",
       "      <td>2.533333</td>\n",
       "    </tr>\n",
       "    <tr>\n",
       "      <th>368</th>\n",
       "      <td>368</td>\n",
       "      <td>MADRID</td>\n",
       "      <td>SEVILLA</td>\n",
       "      <td>ALVIA</td>\n",
       "      <td>56.723877</td>\n",
       "      <td>Preferente</td>\n",
       "      <td>Promo</td>\n",
       "      <td>2.600000</td>\n",
       "    </tr>\n",
       "  </tbody>\n",
       "</table>\n",
       "</div>"
      ],
      "text/plain": [
       "     index  origin destination train_type      price train_class      fare  \\\n",
       "364    364  MADRID     SEVILLA    AV City  49.150000     Turista     Promo   \n",
       "365    365  MADRID     SEVILLA      ALVIA  56.723877  Preferente     Promo   \n",
       "366    366  MADRID     SEVILLA        AVE  69.400000  Preferente     Promo   \n",
       "367    367  MADRID     SEVILLA        AVE  76.300000     Turista  Flexible   \n",
       "368    368  MADRID     SEVILLA      ALVIA  56.723877  Preferente     Promo   \n",
       "\n",
       "     travel_time_in_hrs  \n",
       "364            2.916667  \n",
       "365            2.733333  \n",
       "366            2.633333  \n",
       "367            2.533333  \n",
       "368            2.600000  "
      ]
     },
     "execution_count": 29,
     "metadata": {},
     "output_type": "execute_result"
    }
   ],
   "source": [
    "#write code here\n",
    "df1 = df[df['origin'] == 'MADRID']\n",
    "df1 = df1[df1['destination'] == 'SEVILLA']\n",
    "df1.head()"
   ]
  },
  {
   "cell_type": "markdown",
   "metadata": {},
   "source": [
    "#### Task 22: Make a plot for finding out travelling hours for each train type"
   ]
  },
  {
   "cell_type": "code",
   "execution_count": 30,
   "metadata": {
    "scrolled": true
   },
   "outputs": [
    {
     "data": {
      "text/plain": [
       "<matplotlib.axes._subplots.AxesSubplot at 0x1cc03e178c8>"
      ]
     },
     "execution_count": 30,
     "metadata": {},
     "output_type": "execute_result"
    },
    {
     "data": {
      "image/png": "[encoded data removed]",
      "text/plain": [
       "<Figure size 1080x288 with 1 Axes>"
      ]
     },
     "metadata": {},
     "output_type": "display_data"
    }
   ],
   "source": [
    "#write code here\n",
    "plt.figure(figsize = (15,4))\n",
    "sns.barplot(data= df1, x='train_type', y='travel_time_in_hrs')"
   ]
  },
  {
   "cell_type": "markdown",
   "metadata": {},
   "source": [
    "#### **Task 23: Show train_type vs price through boxplot**\n"
   ]
  },
  {
   "cell_type": "code",
   "execution_count": 31,
   "metadata": {},
   "outputs": [
    {
     "data": {
      "text/plain": [
       "<matplotlib.axes._subplots.AxesSubplot at 0x1cc00840108>"
      ]
     },
     "execution_count": 31,
     "metadata": {},
     "output_type": "execute_result"
    },
    {
     "data": {
      "image/png": "[encoded data removed]",
      "text/plain": [
       "<Figure size 1080x432 with 1 Axes>"
      ]
     },
     "metadata": {},
     "output_type": "display_data"
    }
   ],
   "source": [
    "#write code here\n",
    "plt.figure(figsize = (15,6))\n",
    "sns.boxplot(data= df1, x='train_type', y='price')"
   ]
  },
  {
   "cell_type": "markdown",
   "metadata": {},
   "source": [
    "## **Travelling from MADRID to BARCELONA**\n"
   ]
  },
  {
   "cell_type": "markdown",
   "metadata": {},
   "source": [
    "#### Task 24: Findout people travelling from MADRID to BARCELONA"
   ]
  },
  {
   "cell_type": "code",
   "execution_count": 32,
   "metadata": {},
   "outputs": [
    {
     "data": {
      "text/html": [
       "<div>\n",
       "<style scoped>\n",
       "    .dataframe tbody tr th:only-of-type {\n",
       "        vertical-align: middle;\n",
       "    }\n",
       "\n",
       "    .dataframe tbody tr th {\n",
       "        vertical-align: top;\n",
       "    }\n",
       "\n",
       "    .dataframe thead th {\n",
       "        text-align: right;\n",
       "    }\n",
       "</style>\n",
       "<table border=\"1\" class=\"dataframe\">\n",
       "  <thead>\n",
       "    <tr style=\"text-align: right;\">\n",
       "      <th></th>\n",
       "      <th>index</th>\n",
       "      <th>origin</th>\n",
       "      <th>destination</th>\n",
       "      <th>train_type</th>\n",
       "      <th>price</th>\n",
       "      <th>train_class</th>\n",
       "      <th>fare</th>\n",
       "      <th>travel_time_in_hrs</th>\n",
       "    </tr>\n",
       "  </thead>\n",
       "  <tbody>\n",
       "    <tr>\n",
       "      <th>79</th>\n",
       "      <td>79</td>\n",
       "      <td>MADRID</td>\n",
       "      <td>BARCELONA</td>\n",
       "      <td>R. EXPRES</td>\n",
       "      <td>43.25</td>\n",
       "      <td>Turista</td>\n",
       "      <td>Adulto ida</td>\n",
       "      <td>9.366667</td>\n",
       "    </tr>\n",
       "    <tr>\n",
       "      <th>80</th>\n",
       "      <td>80</td>\n",
       "      <td>MADRID</td>\n",
       "      <td>BARCELONA</td>\n",
       "      <td>R. EXPRES</td>\n",
       "      <td>43.25</td>\n",
       "      <td>Turista</td>\n",
       "      <td>Adulto ida</td>\n",
       "      <td>9.366667</td>\n",
       "    </tr>\n",
       "    <tr>\n",
       "      <th>81</th>\n",
       "      <td>81</td>\n",
       "      <td>MADRID</td>\n",
       "      <td>BARCELONA</td>\n",
       "      <td>R. EXPRES</td>\n",
       "      <td>43.25</td>\n",
       "      <td>Turista</td>\n",
       "      <td>Adulto ida</td>\n",
       "      <td>9.366667</td>\n",
       "    </tr>\n",
       "    <tr>\n",
       "      <th>82</th>\n",
       "      <td>82</td>\n",
       "      <td>MADRID</td>\n",
       "      <td>BARCELONA</td>\n",
       "      <td>R. EXPRES</td>\n",
       "      <td>43.25</td>\n",
       "      <td>Turista</td>\n",
       "      <td>Adulto ida</td>\n",
       "      <td>9.366667</td>\n",
       "    </tr>\n",
       "    <tr>\n",
       "      <th>83</th>\n",
       "      <td>83</td>\n",
       "      <td>MADRID</td>\n",
       "      <td>BARCELONA</td>\n",
       "      <td>AVE</td>\n",
       "      <td>66.75</td>\n",
       "      <td>Turista</td>\n",
       "      <td>Promo</td>\n",
       "      <td>3.150000</td>\n",
       "    </tr>\n",
       "  </tbody>\n",
       "</table>\n",
       "</div>"
      ],
      "text/plain": [
       "    index  origin destination train_type  price train_class        fare  \\\n",
       "79     79  MADRID   BARCELONA  R. EXPRES  43.25     Turista  Adulto ida   \n",
       "80     80  MADRID   BARCELONA  R. EXPRES  43.25     Turista  Adulto ida   \n",
       "81     81  MADRID   BARCELONA  R. EXPRES  43.25     Turista  Adulto ida   \n",
       "82     82  MADRID   BARCELONA  R. EXPRES  43.25     Turista  Adulto ida   \n",
       "83     83  MADRID   BARCELONA        AVE  66.75     Turista       Promo   \n",
       "\n",
       "    travel_time_in_hrs  \n",
       "79            9.366667  \n",
       "80            9.366667  \n",
       "81            9.366667  \n",
       "82            9.366667  \n",
       "83            3.150000  "
      ]
     },
     "execution_count": 32,
     "metadata": {},
     "output_type": "execute_result"
    }
   ],
   "source": [
    "#write code here\n",
    "df1 = df[df['origin'] == 'MADRID']\n",
    "df1 = df1[df1['destination'] == 'BARCELONA']\n",
    "df1.head()"
   ]
  },
  {
   "cell_type": "markdown",
   "metadata": {},
   "source": [
    "#### Task 25: Make a plot for finding out travelling hours for each train type"
   ]
  },
  {
   "cell_type": "code",
   "execution_count": 33,
   "metadata": {
    "scrolled": false
   },
   "outputs": [
    {
     "data": {
      "text/plain": [
       "<matplotlib.axes._subplots.AxesSubplot at 0x1cc0055f848>"
      ]
     },
     "execution_count": 33,
     "metadata": {},
     "output_type": "execute_result"
    },
    {
     "data": {
      "image/png": "[encoded data removed]",
      "text/plain": [
       "<Figure size 1080x288 with 1 Axes>"
      ]
     },
     "metadata": {},
     "output_type": "display_data"
    }
   ],
   "source": [
    "#write code here\n",
    "plt.figure(figsize = (15,4))\n",
    "sns.barplot(data= df1, x='train_type', y='travel_time_in_hrs')"
   ]
  },
  {
   "cell_type": "markdown",
   "metadata": {},
   "source": [
    "#### **Task 26: Show train_type vs price through boxplot**"
   ]
  },
  {
   "cell_type": "code",
   "execution_count": 34,
   "metadata": {
    "scrolled": true
   },
   "outputs": [
    {
     "data": {
      "text/plain": [
       "<matplotlib.axes._subplots.AxesSubplot at 0x1cc0061ad08>"
      ]
     },
     "execution_count": 34,
     "metadata": {},
     "output_type": "execute_result"
    },
    {
     "data": {
      "image/png": "[encoded data removed]",
      "text/plain": [
       "<Figure size 1080x288 with 1 Axes>"
      ]
     },
     "metadata": {},
     "output_type": "display_data"
    }
   ],
   "source": [
    "#write code here\n",
    "plt.figure(figsize = (15,4))\n",
    "sns.boxplot(data= df1, x='train_type', y='price')"
   ]
  },
  {
   "cell_type": "markdown",
   "metadata": {},
   "source": [
    "## **Travelling from MADRID to VALENCIA**"
   ]
  },
  {
   "cell_type": "markdown",
   "metadata": {},
   "source": [
    "#### Task 27: Findout people travelling from MADRID to VALENCIA"
   ]
  },
  {
   "cell_type": "code",
   "execution_count": 35,
   "metadata": {},
   "outputs": [
    {
     "data": {
      "text/html": [
       "<div>\n",
       "<style scoped>\n",
       "    .dataframe tbody tr th:only-of-type {\n",
       "        vertical-align: middle;\n",
       "    }\n",
       "\n",
       "    .dataframe tbody tr th {\n",
       "        vertical-align: top;\n",
       "    }\n",
       "\n",
       "    .dataframe thead th {\n",
       "        text-align: right;\n",
       "    }\n",
       "</style>\n",
       "<table border=\"1\" class=\"dataframe\">\n",
       "  <thead>\n",
       "    <tr style=\"text-align: right;\">\n",
       "      <th></th>\n",
       "      <th>index</th>\n",
       "      <th>origin</th>\n",
       "      <th>destination</th>\n",
       "      <th>train_type</th>\n",
       "      <th>price</th>\n",
       "      <th>train_class</th>\n",
       "      <th>fare</th>\n",
       "      <th>travel_time_in_hrs</th>\n",
       "    </tr>\n",
       "  </thead>\n",
       "  <tbody>\n",
       "    <tr>\n",
       "      <th>5</th>\n",
       "      <td>5</td>\n",
       "      <td>MADRID</td>\n",
       "      <td>VALENCIA</td>\n",
       "      <td>REGIONAL</td>\n",
       "      <td>28.35</td>\n",
       "      <td>Turista</td>\n",
       "      <td>Adulto ida</td>\n",
       "      <td>6.783333</td>\n",
       "    </tr>\n",
       "    <tr>\n",
       "      <th>6</th>\n",
       "      <td>6</td>\n",
       "      <td>MADRID</td>\n",
       "      <td>VALENCIA</td>\n",
       "      <td>REGIONAL</td>\n",
       "      <td>28.35</td>\n",
       "      <td>Turista</td>\n",
       "      <td>Adulto ida</td>\n",
       "      <td>6.716667</td>\n",
       "    </tr>\n",
       "    <tr>\n",
       "      <th>7</th>\n",
       "      <td>7</td>\n",
       "      <td>MADRID</td>\n",
       "      <td>VALENCIA</td>\n",
       "      <td>REGIONAL</td>\n",
       "      <td>28.35</td>\n",
       "      <td>Turista</td>\n",
       "      <td>Adulto ida</td>\n",
       "      <td>6.700000</td>\n",
       "    </tr>\n",
       "    <tr>\n",
       "      <th>8</th>\n",
       "      <td>8</td>\n",
       "      <td>MADRID</td>\n",
       "      <td>VALENCIA</td>\n",
       "      <td>REGIONAL</td>\n",
       "      <td>28.35</td>\n",
       "      <td>Turista</td>\n",
       "      <td>Adulto ida</td>\n",
       "      <td>6.583333</td>\n",
       "    </tr>\n",
       "    <tr>\n",
       "      <th>9</th>\n",
       "      <td>9</td>\n",
       "      <td>MADRID</td>\n",
       "      <td>VALENCIA</td>\n",
       "      <td>REGIONAL</td>\n",
       "      <td>28.35</td>\n",
       "      <td>Turista</td>\n",
       "      <td>Adulto ida</td>\n",
       "      <td>6.366667</td>\n",
       "    </tr>\n",
       "  </tbody>\n",
       "</table>\n",
       "</div>"
      ],
      "text/plain": [
       "   index  origin destination train_type  price train_class        fare  \\\n",
       "5      5  MADRID    VALENCIA   REGIONAL  28.35     Turista  Adulto ida   \n",
       "6      6  MADRID    VALENCIA   REGIONAL  28.35     Turista  Adulto ida   \n",
       "7      7  MADRID    VALENCIA   REGIONAL  28.35     Turista  Adulto ida   \n",
       "8      8  MADRID    VALENCIA   REGIONAL  28.35     Turista  Adulto ida   \n",
       "9      9  MADRID    VALENCIA   REGIONAL  28.35     Turista  Adulto ida   \n",
       "\n",
       "   travel_time_in_hrs  \n",
       "5            6.783333  \n",
       "6            6.716667  \n",
       "7            6.700000  \n",
       "8            6.583333  \n",
       "9            6.366667  "
      ]
     },
     "execution_count": 35,
     "metadata": {},
     "output_type": "execute_result"
    }
   ],
   "source": [
    "#write code here\n",
    "df1 = df[df['origin'] == 'MADRID']\n",
    "df1 = df1[df1['destination'] == 'VALENCIA']\n",
    "df1.head()"
   ]
  },
  {
   "cell_type": "markdown",
   "metadata": {},
   "source": [
    "#### Task 28: Make a plot for finding out travelling hours for each train type"
   ]
  },
  {
   "cell_type": "code",
   "execution_count": 36,
   "metadata": {
    "scrolled": true
   },
   "outputs": [
    {
     "data": {
      "text/plain": [
       "<matplotlib.axes._subplots.AxesSubplot at 0x1cc00a672c8>"
      ]
     },
     "execution_count": 36,
     "metadata": {},
     "output_type": "execute_result"
    },
    {
     "data": {
      "image/png": "[encoded data removed]",
      "text/plain": [
       "<Figure size 1080x288 with 1 Axes>"
      ]
     },
     "metadata": {},
     "output_type": "display_data"
    }
   ],
   "source": [
    "#write code here\n",
    "plt.figure(figsize = (15,4))\n",
    "sns.barplot(data= df1, x='train_type', y='travel_time_in_hrs')"
   ]
  },
  {
   "cell_type": "markdown",
   "metadata": {},
   "source": [
    "#### **Task 29: Show train_type vs price through boxplot**"
   ]
  },
  {
   "cell_type": "code",
   "execution_count": 37,
   "metadata": {
    "scrolled": true
   },
   "outputs": [
    {
     "data": {
      "text/plain": [
       "<matplotlib.axes._subplots.AxesSubplot at 0x1cc00a63388>"
      ]
     },
     "execution_count": 37,
     "metadata": {},
     "output_type": "execute_result"
    },
    {
     "data": {
      "image/png": "[encoded data removed]",
      "text/plain": [
       "<Figure size 1080x288 with 1 Axes>"
      ]
     },
     "metadata": {},
     "output_type": "display_data"
    }
   ],
   "source": [
    "#write code here\n",
    "plt.figure(figsize = (15,4))\n",
    "sns.boxplot(data= df1, x='train_type', y='price')"
   ]
  },
  {
   "cell_type": "markdown",
   "metadata": {},
   "source": [
    "## **Travelling from MADRID to PONFERRADA**"
   ]
  },
  {
   "cell_type": "markdown",
   "metadata": {},
   "source": [
    "#### Task 30: Findout people travelling from MADRID to PONFERRADA"
   ]
  },
  {
   "cell_type": "code",
   "execution_count": 38,
   "metadata": {},
   "outputs": [
    {
     "data": {
      "text/html": [
       "<div>\n",
       "<style scoped>\n",
       "    .dataframe tbody tr th:only-of-type {\n",
       "        vertical-align: middle;\n",
       "    }\n",
       "\n",
       "    .dataframe tbody tr th {\n",
       "        vertical-align: top;\n",
       "    }\n",
       "\n",
       "    .dataframe thead th {\n",
       "        text-align: right;\n",
       "    }\n",
       "</style>\n",
       "<table border=\"1\" class=\"dataframe\">\n",
       "  <thead>\n",
       "    <tr style=\"text-align: right;\">\n",
       "      <th></th>\n",
       "      <th>index</th>\n",
       "      <th>origin</th>\n",
       "      <th>destination</th>\n",
       "      <th>train_type</th>\n",
       "      <th>price</th>\n",
       "      <th>train_class</th>\n",
       "      <th>fare</th>\n",
       "      <th>travel_time_in_hrs</th>\n",
       "    </tr>\n",
       "  </thead>\n",
       "  <tbody>\n",
       "    <tr>\n",
       "      <th>233</th>\n",
       "      <td>233</td>\n",
       "      <td>MADRID</td>\n",
       "      <td>PONFERRADA</td>\n",
       "      <td>AVE-MD</td>\n",
       "      <td>35.750000</td>\n",
       "      <td>Turista con enlace</td>\n",
       "      <td>Promo</td>\n",
       "      <td>3.883333</td>\n",
       "    </tr>\n",
       "    <tr>\n",
       "      <th>234</th>\n",
       "      <td>234</td>\n",
       "      <td>MADRID</td>\n",
       "      <td>PONFERRADA</td>\n",
       "      <td>AVE-LD</td>\n",
       "      <td>31.200000</td>\n",
       "      <td>Turista con enlace</td>\n",
       "      <td>Promo</td>\n",
       "      <td>4.200000</td>\n",
       "    </tr>\n",
       "    <tr>\n",
       "      <th>235</th>\n",
       "      <td>235</td>\n",
       "      <td>MADRID</td>\n",
       "      <td>PONFERRADA</td>\n",
       "      <td>ALVIA</td>\n",
       "      <td>33.500000</td>\n",
       "      <td>Turista</td>\n",
       "      <td>Promo</td>\n",
       "      <td>4.050000</td>\n",
       "    </tr>\n",
       "    <tr>\n",
       "      <th>236</th>\n",
       "      <td>236</td>\n",
       "      <td>MADRID</td>\n",
       "      <td>PONFERRADA</td>\n",
       "      <td>LD-MD</td>\n",
       "      <td>56.723877</td>\n",
       "      <td>Turista con enlace</td>\n",
       "      <td>Promo +</td>\n",
       "      <td>6.533333</td>\n",
       "    </tr>\n",
       "    <tr>\n",
       "      <th>237</th>\n",
       "      <td>237</td>\n",
       "      <td>MADRID</td>\n",
       "      <td>PONFERRADA</td>\n",
       "      <td>LD</td>\n",
       "      <td>42.750000</td>\n",
       "      <td>Turista con enlace</td>\n",
       "      <td>Promo +</td>\n",
       "      <td>4.200000</td>\n",
       "    </tr>\n",
       "  </tbody>\n",
       "</table>\n",
       "</div>"
      ],
      "text/plain": [
       "     index  origin destination train_type      price         train_class  \\\n",
       "233    233  MADRID  PONFERRADA     AVE-MD  35.750000  Turista con enlace   \n",
       "234    234  MADRID  PONFERRADA     AVE-LD  31.200000  Turista con enlace   \n",
       "235    235  MADRID  PONFERRADA      ALVIA  33.500000             Turista   \n",
       "236    236  MADRID  PONFERRADA      LD-MD  56.723877  Turista con enlace   \n",
       "237    237  MADRID  PONFERRADA         LD  42.750000  Turista con enlace   \n",
       "\n",
       "        fare  travel_time_in_hrs  \n",
       "233    Promo            3.883333  \n",
       "234    Promo            4.200000  \n",
       "235    Promo            4.050000  \n",
       "236  Promo +            6.533333  \n",
       "237  Promo +            4.200000  "
      ]
     },
     "execution_count": 38,
     "metadata": {},
     "output_type": "execute_result"
    }
   ],
   "source": [
    "#write code here\n",
    "df1 = df[df['origin'] == 'MADRID']\n",
    "df1 = df1[df1['destination'] == 'PONFERRADA']\n",
    "df1.head()"
   ]
  },
  {
   "cell_type": "markdown",
   "metadata": {},
   "source": [
    "#### Task 31: Make a plot for finding out travelling hours for each train type"
   ]
  },
  {
   "cell_type": "code",
   "execution_count": 39,
   "metadata": {
    "scrolled": true
   },
   "outputs": [
    {
     "data": {
      "text/plain": [
       "<matplotlib.axes._subplots.AxesSubplot at 0x1cc00b36e88>"
      ]
     },
     "execution_count": 39,
     "metadata": {},
     "output_type": "execute_result"
    },
    {
     "data": {
      "image/png": "[encoded data removed]",
      "text/plain": [
       "<Figure size 1080x288 with 1 Axes>"
      ]
     },
     "metadata": {},
     "output_type": "display_data"
    }
   ],
   "source": [
    "#write code here\n",
    "#write code here\n",
    "plt.figure(figsize = (15,4))\n",
    "sns.barplot(data= df1, x='train_type', y='travel_time_in_hrs')"
   ]
  },
  {
   "cell_type": "markdown",
   "metadata": {},
   "source": [
    "#### **Task 32: Show train_type vs price through boxplot**"
   ]
  },
  {
   "cell_type": "code",
   "execution_count": 40,
   "metadata": {
    "scrolled": true
   },
   "outputs": [
    {
     "data": {
      "text/plain": [
       "<matplotlib.axes._subplots.AxesSubplot at 0x1cc00e90a88>"
      ]
     },
     "execution_count": 40,
     "metadata": {},
     "output_type": "execute_result"
    },
    {
     "data": {
      "image/png": "[encoded data removed]",
      "text/plain": [
       "<Figure size 1080x288 with 1 Axes>"
      ]
     },
     "metadata": {},
     "output_type": "display_data"
    }
   ],
   "source": [
    "#write code here\n",
    "plt.figure(figsize = (15,4))\n",
    "sns.boxplot(data= df1, x='train_type', y='price')"
   ]
  },
  {
   "cell_type": "markdown",
   "metadata": {},
   "source": [
    "# Applying Linear  Regression"
   ]
  },
  {
   "cell_type": "markdown",
   "metadata": {},
   "source": [
    "#### Task 33: Import LabelEncoder library from sklearn "
   ]
  },
  {
   "cell_type": "code",
   "execution_count": 41,
   "metadata": {},
   "outputs": [],
   "source": [
    "#write code here\n",
    "from sklearn.preprocessing import LabelEncoder"
   ]
  },
  {
   "cell_type": "markdown",
   "metadata": {},
   "source": [
    "**Data Encoding**"
   ]
  },
  {
   "cell_type": "code",
   "execution_count": 42,
   "metadata": {},
   "outputs": [],
   "source": [
    "lab_en = LabelEncoder()\n",
    "df.iloc[:,1] = lab_en.fit_transform(df.iloc[:,1])\n",
    "df.iloc[:,2] = lab_en.fit_transform(df.iloc[:,2])\n",
    "df.iloc[:,3] = lab_en.fit_transform(df.iloc[:,3])\n",
    "df.iloc[:,5] = lab_en.fit_transform(df.iloc[:,5])\n",
    "df.iloc[:,6] = lab_en.fit_transform(df.iloc[:,6])"
   ]
  },
  {
   "cell_type": "code",
   "execution_count": 43,
   "metadata": {},
   "outputs": [
    {
     "data": {
      "text/html": [
       "<div>\n",
       "<style scoped>\n",
       "    .dataframe tbody tr th:only-of-type {\n",
       "        vertical-align: middle;\n",
       "    }\n",
       "\n",
       "    .dataframe tbody tr th {\n",
       "        vertical-align: top;\n",
       "    }\n",
       "\n",
       "    .dataframe thead th {\n",
       "        text-align: right;\n",
       "    }\n",
       "</style>\n",
       "<table border=\"1\" class=\"dataframe\">\n",
       "  <thead>\n",
       "    <tr style=\"text-align: right;\">\n",
       "      <th></th>\n",
       "      <th>index</th>\n",
       "      <th>origin</th>\n",
       "      <th>destination</th>\n",
       "      <th>train_type</th>\n",
       "      <th>price</th>\n",
       "      <th>train_class</th>\n",
       "      <th>fare</th>\n",
       "      <th>travel_time_in_hrs</th>\n",
       "    </tr>\n",
       "  </thead>\n",
       "  <tbody>\n",
       "    <tr>\n",
       "      <th>0</th>\n",
       "      <td>0</td>\n",
       "      <td>2</td>\n",
       "      <td>1</td>\n",
       "      <td>11</td>\n",
       "      <td>59.50</td>\n",
       "      <td>4</td>\n",
       "      <td>1</td>\n",
       "      <td>4.700000</td>\n",
       "    </tr>\n",
       "    <tr>\n",
       "      <th>1</th>\n",
       "      <td>1</td>\n",
       "      <td>2</td>\n",
       "      <td>1</td>\n",
       "      <td>11</td>\n",
       "      <td>34.65</td>\n",
       "      <td>4</td>\n",
       "      <td>4</td>\n",
       "      <td>5.800000</td>\n",
       "    </tr>\n",
       "    <tr>\n",
       "      <th>2</th>\n",
       "      <td>2</td>\n",
       "      <td>2</td>\n",
       "      <td>1</td>\n",
       "      <td>12</td>\n",
       "      <td>39.95</td>\n",
       "      <td>4</td>\n",
       "      <td>4</td>\n",
       "      <td>5.916667</td>\n",
       "    </tr>\n",
       "    <tr>\n",
       "      <th>3</th>\n",
       "      <td>3</td>\n",
       "      <td>2</td>\n",
       "      <td>1</td>\n",
       "      <td>11</td>\n",
       "      <td>40.60</td>\n",
       "      <td>4</td>\n",
       "      <td>4</td>\n",
       "      <td>4.983333</td>\n",
       "    </tr>\n",
       "    <tr>\n",
       "      <th>4</th>\n",
       "      <td>4</td>\n",
       "      <td>2</td>\n",
       "      <td>1</td>\n",
       "      <td>0</td>\n",
       "      <td>27.90</td>\n",
       "      <td>2</td>\n",
       "      <td>3</td>\n",
       "      <td>4.133333</td>\n",
       "    </tr>\n",
       "  </tbody>\n",
       "</table>\n",
       "</div>"
      ],
      "text/plain": [
       "   index  origin  destination  train_type  price  train_class  fare  \\\n",
       "0      0       2            1          11  59.50            4     1   \n",
       "1      1       2            1          11  34.65            4     4   \n",
       "2      2       2            1          12  39.95            4     4   \n",
       "3      3       2            1          11  40.60            4     4   \n",
       "4      4       2            1           0  27.90            2     3   \n",
       "\n",
       "   travel_time_in_hrs  \n",
       "0            4.700000  \n",
       "1            5.800000  \n",
       "2            5.916667  \n",
       "3            4.983333  \n",
       "4            4.133333  "
      ]
     },
     "execution_count": 43,
     "metadata": {},
     "output_type": "execute_result"
    }
   ],
   "source": [
    "df.head()"
   ]
  },
  {
   "cell_type": "markdown",
   "metadata": {},
   "source": [
    "#### Task 34: Separate the dependant and independant variables"
   ]
  },
  {
   "cell_type": "code",
   "execution_count": 44,
   "metadata": {},
   "outputs": [],
   "source": [
    "#write code here\n",
    "X = df.drop(columns = ['index','price'],axis=1)\n",
    "Y = df['price']"
   ]
  },
  {
   "cell_type": "markdown",
   "metadata": {},
   "source": [
    "#### Task 35: Import test_train_split from sklearn"
   ]
  },
  {
   "cell_type": "code",
   "execution_count": 45,
   "metadata": {},
   "outputs": [],
   "source": [
    "#write code here\n",
    "from sklearn.model_selection import train_test_split\n"
   ]
  },
  {
   "cell_type": "markdown",
   "metadata": {},
   "source": [
    "#### Task 36:**Split the data into training and test set**"
   ]
  },
  {
   "cell_type": "code",
   "execution_count": 46,
   "metadata": {},
   "outputs": [
    {
     "name": "stdout",
     "output_type": "stream",
     "text": [
      "(150686, 6) (150686,)\n",
      "(64580, 6) (64580,)\n"
     ]
    }
   ],
   "source": [
    "#write code here\n",
    "X_train,X_test,Y_train,Y_test = train_test_split(X,Y,test_size=0.3, random_state=25, shuffle = True)\n",
    "print(X_train.shape, Y_train.shape)\n",
    "print(X_test.shape, Y_test.shape)\n"
   ]
  },
  {
   "cell_type": "markdown",
   "metadata": {},
   "source": [
    "#### Task 37: Import LinearRegression library from sklearn"
   ]
  },
  {
   "cell_type": "code",
   "execution_count": 47,
   "metadata": {},
   "outputs": [],
   "source": [
    "#write code here\n",
    "from sklearn.linear_model import LinearRegression\n"
   ]
  },
  {
   "cell_type": "markdown",
   "metadata": {},
   "source": [
    "#### Task 38: Make an object of LinearRegression( ) and train it using the training data set"
   ]
  },
  {
   "cell_type": "code",
   "execution_count": 48,
   "metadata": {},
   "outputs": [],
   "source": [
    "#write code here\n",
    "lr = LinearRegression()"
   ]
  },
  {
   "cell_type": "code",
   "execution_count": 49,
   "metadata": {},
   "outputs": [
    {
     "data": {
      "text/plain": [
       "LinearRegression()"
      ]
     },
     "execution_count": 49,
     "metadata": {},
     "output_type": "execute_result"
    }
   ],
   "source": [
    "#write code here\n",
    "lr.fit(X_train,Y_train)"
   ]
  },
  {
   "cell_type": "markdown",
   "metadata": {},
   "source": [
    "#### Task 39: Find out the predictions using test data set."
   ]
  },
  {
   "cell_type": "code",
   "execution_count": 50,
   "metadata": {},
   "outputs": [],
   "source": [
    "#write code here\n",
    "lr_predict = lr.predict(X_test)"
   ]
  },
  {
   "cell_type": "markdown",
   "metadata": {},
   "source": [
    "#### Task 40: Find out the predictions using training data set."
   ]
  },
  {
   "cell_type": "code",
   "execution_count": 51,
   "metadata": {},
   "outputs": [],
   "source": [
    "#write code here\n",
    "lr_predict_train = lr.predict(X_train)"
   ]
  },
  {
   "cell_type": "markdown",
   "metadata": {},
   "source": [
    "#### Task 41: Import r2_score library form sklearn"
   ]
  },
  {
   "cell_type": "code",
   "execution_count": 52,
   "metadata": {},
   "outputs": [],
   "source": [
    "#write code here\n",
    "from sklearn.metrics import r2_score"
   ]
  },
  {
   "cell_type": "markdown",
   "metadata": {},
   "source": [
    "#### Task 42: Find out the R2 Score for test data and print it."
   ]
  },
  {
   "cell_type": "code",
   "execution_count": 53,
   "metadata": {},
   "outputs": [
    {
     "name": "stdout",
     "output_type": "stream",
     "text": [
      "0.7304404433036449\n"
     ]
    }
   ],
   "source": [
    "#write code here\n",
    "lr_r2_test= r2_score(Y_test,lr_predict)\n",
    "print(lr_r2_test)"
   ]
  },
  {
   "cell_type": "markdown",
   "metadata": {},
   "source": [
    "#### Task 43: Find out the R2 Score for training data and print it."
   ]
  },
  {
   "cell_type": "code",
   "execution_count": 54,
   "metadata": {},
   "outputs": [
    {
     "name": "stdout",
     "output_type": "stream",
     "text": [
      "0.7250571229406206\n"
     ]
    }
   ],
   "source": [
    "lr_r2_train = r2_score(Y_train,lr_predict_train)\n",
    "print(lr_r2_train)"
   ]
  },
  {
   "cell_type": "markdown",
   "metadata": {},
   "source": [
    "Comaparing training and testing R2 scores"
   ]
  },
  {
   "cell_type": "code",
   "execution_count": 55,
   "metadata": {},
   "outputs": [
    {
     "name": "stdout",
     "output_type": "stream",
     "text": [
      "R2 score for Linear Regression Training Data is:  0.7250571229406206\n",
      "R2 score for Linear Regression Testing Data is:  0.7304404433036449\n"
     ]
    }
   ],
   "source": [
    "print('R2 score for Linear Regression Training Data is: ', lr_r2_train)\n",
    "print('R2 score for Linear Regression Testing Data is: ', lr_r2_test)"
   ]
  },
  {
   "cell_type": "markdown",
   "metadata": {},
   "source": [
    "# Applying Polynomial Regression"
   ]
  },
  {
   "cell_type": "markdown",
   "metadata": {},
   "source": [
    "#### Task 44: Import PolynomialFeatures from sklearn"
   ]
  },
  {
   "cell_type": "code",
   "execution_count": 56,
   "metadata": {},
   "outputs": [],
   "source": [
    "#write code here\n",
    "from sklearn.preprocessing import PolynomialFeatures"
   ]
  },
  {
   "cell_type": "markdown",
   "metadata": {},
   "source": [
    "#### Task 45: Make and object of default Polynomial Features"
   ]
  },
  {
   "cell_type": "code",
   "execution_count": 57,
   "metadata": {},
   "outputs": [],
   "source": [
    "#write code here\n",
    "poly_reg = PolynomialFeatures()"
   ]
  },
  {
   "cell_type": "markdown",
   "metadata": {},
   "source": [
    "#### Task 46: Transform the features to higher degree features."
   ]
  },
  {
   "cell_type": "code",
   "execution_count": 58,
   "metadata": {},
   "outputs": [],
   "source": [
    "#write code here\n",
    "X_train_poly= poly_reg.fit_transform(X_train)\n",
    "X_test_poly = poly_reg.fit_transform(X_test)"
   ]
  },
  {
   "cell_type": "markdown",
   "metadata": {},
   "source": [
    "#### Task 47: Fit the transformed features to Linear Regression"
   ]
  },
  {
   "cell_type": "code",
   "execution_count": 59,
   "metadata": {},
   "outputs": [
    {
     "data": {
      "text/plain": [
       "LinearRegression()"
      ]
     },
     "execution_count": 59,
     "metadata": {},
     "output_type": "execute_result"
    }
   ],
   "source": [
    "#write code here\n",
    "poly_model = LinearRegression()\n",
    "poly_model.fit(X_train_poly, Y_train)"
   ]
  },
  {
   "cell_type": "markdown",
   "metadata": {},
   "source": [
    "#### Task 48: Find the predictions on the data set"
   ]
  },
  {
   "cell_type": "code",
   "execution_count": 60,
   "metadata": {},
   "outputs": [],
   "source": [
    "#write code here\n",
    "y_train_predict,y_test_predict = poly_model.predict(X_train_poly),poly_model.predict(X_test_poly)"
   ]
  },
  {
   "cell_type": "markdown",
   "metadata": {},
   "source": [
    "#### Task 49: Evaluate R2 score for training data set"
   ]
  },
  {
   "cell_type": "code",
   "execution_count": 61,
   "metadata": {},
   "outputs": [],
   "source": [
    "#evaluating the model on training dataset\n",
    "#write code here\n",
    "r2_train = r2_score(Y_train,y_train_predict)"
   ]
  },
  {
   "cell_type": "markdown",
   "metadata": {},
   "source": [
    "#### Task 50: Evaluate R2 score for test data set"
   ]
  },
  {
   "cell_type": "code",
   "execution_count": 62,
   "metadata": {},
   "outputs": [],
   "source": [
    "# evaluating the model on test dataset\n",
    "#write code here\n",
    "r2_test = r2_score(Y_test,y_test_predict)"
   ]
  },
  {
   "cell_type": "markdown",
   "metadata": {},
   "source": [
    "Comaparing training and testing R2 scores"
   ]
  },
  {
   "cell_type": "code",
   "execution_count": 63,
   "metadata": {
    "scrolled": true
   },
   "outputs": [
    {
     "name": "stdout",
     "output_type": "stream",
     "text": [
      "The r2 score for training set is:  0.8201595554082971\n",
      "The r2 score for testing set is:  0.8209918442880074\n"
     ]
    }
   ],
   "source": [
    "#write code here\n",
    "print ('The r2 score for training set is: ',r2_train)\n",
    "print ('The r2 score for testing set is: ',r2_test)"
   ]
  },
  {
   "cell_type": "markdown",
   "metadata": {},
   "source": [
    "#### Task 51: Select the best model"
   ]
  },
  {
   "cell_type": "markdown",
   "metadata": {},
   "source": [
    "**Question: Which model gives the best result for price prediction? Find out the complexity using R2 score and give your answer.**<br>\n",
    "*Hint: Use for loop for finding the best degree and model complexity for polynomial regression model*"
   ]
  },
  {
   "cell_type": "code",
   "execution_count": 64,
   "metadata": {},
   "outputs": [
    {
     "name": "stdout",
     "output_type": "stream",
     "text": [
      "R2 Train [0.7250571229406206, 0.8201595554082971, 0.8452756108830768, 0.8628809555333197, 0.8689307310273185]\n",
      "R2 Test [0.7304404433036451, 0.8209918442880074, 0.8446382883505774, -9076.19468587087, -103517.03158456316]\n"
     ]
    }
   ],
   "source": [
    "#write code here\n",
    "r2_train=[]\n",
    "r2_test=[]\n",
    "for i in range(1,6):\n",
    "    poly_reg = PolynomialFeatures(degree = i)\n",
    "    \n",
    "    X_tr_poly,X_tst_poly = poly_reg.fit_transform(X_train),poly_reg.fit_transform(X_test)\n",
    "    poly = LinearRegression()\n",
    "    poly.fit(X_tr_poly, Y_train)\n",
    "   \n",
    "    y_tr_predicted,y_tst_predict = poly.predict(X_tr_poly),poly.predict(X_tst_poly)\n",
    "    r2_train.append(r2_score(Y_train, y_tr_predicted))\n",
    "    r2_test.append(r2_score(Y_test, y_tst_predict))\n",
    "    \n",
    "print ('R2 Train', r2_train)\n",
    "print ('R2 Test', r2_test)"
   ]
  },
  {
   "cell_type": "markdown",
   "metadata": {},
   "source": [
    "#### Plotting the model"
   ]
  },
  {
   "cell_type": "code",
   "execution_count": 65,
   "metadata": {},
   "outputs": [
    {
     "data": {
      "image/png": "[encoded data removed]",
      "text/plain": [
       "<Figure size 1296x360 with 2 Axes>"
      ]
     },
     "metadata": {},
     "output_type": "display_data"
    }
   ],
   "source": [
    "plt.figure(figsize=(18,5))\n",
    "sns.set_context('poster')\n",
    "\n",
    "plt.subplot(1,2,1)\n",
    "plt.ylim(min(r2_train)-0.1,1)\n",
    "sns.lineplot(x=list(range(1,6)), y=r2_train, label='Training');\n",
    "plt.subplot(1,2,2)\n",
    "plt.ylim(min(r2_train)-0.1,1)\n",
    "sns.lineplot(x=list(range(1,6)), y=r2_test, label='Testing');\n"
   ]
  },
  {
   "cell_type": "markdown",
   "metadata": {},
   "source": [
    "**Answer**"
   ]
  },
  {
   "cell_type": "markdown",
   "metadata": {},
   "source": [
    "# Polynomial with degree 3 is the best model for price prediction in this case. "
   ]
  },
  {
   "cell_type": "code",
   "execution_count": null,
   "metadata": {},
   "outputs": [],
   "source": []
  }
 ],
 "metadata": {
  "kernelspec": {
   "display_name": "Python 3",
   "language": "python",
   "name": "python3"
  },
  "language_info": {
   "codemirror_mode": {
    "name": "ipython",
    "version": 3
   },
   "file_extension": ".py",
   "mimetype": "text/x-python",
   "name": "python",
   "nbconvert_exporter": "python",
   "pygments_lexer": "ipython3",
   "version": "3.7.6"
  }
 },
 "nbformat": 4,
 "nbformat_minor": 2
}
